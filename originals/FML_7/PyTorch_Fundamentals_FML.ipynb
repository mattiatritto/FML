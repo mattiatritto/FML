{
  "cells": [
    {
      "cell_type": "markdown",
      "source": [
        "**FOUNDATIONS OF MACHINE LEARNING**\n",
        "\n",
        "**Fundamentals of PyTorch**"
      ],
      "metadata": {
        "id": "s5qTrWeixdWl"
      }
    },
    {
      "cell_type": "markdown",
      "source": [
        "PyTorch and scikit-learn serve different purposes in the field of machine learning. They are designed for different tasks for different needs:\n",
        "\n",
        "* PyTorch:\n",
        "    - Use Case: PyTorch is primarily a deep learning framework that is well-suited for building and training neural networks. It is commonly used for tasks such as image recognition, natural language processing, and other complex machine learning tasks that benefit from deep learning models.\n",
        "    - Strengths: PyTorch's dynamic computational graph, flexibility, and strong support for GPU acceleration make it particularly suitable for research and experimentation in deep learning. It is widely used in the academic and research community.\n",
        "\n",
        "* scikit-learn:\n",
        "    - Use Case: scikit-learn is a machine learning library that focuses on traditional machine learning algorithms and provides tools for data preprocessing, feature selection, model evaluation, and more. It is suitable for a wide range of machine learning tasks, especially in scenarios where deep learning may be overkill or impractical due to data size or simplicity of the problem.\n",
        "    - Strengths: scikit-learn is known for its simplicity, ease of use, and a wide range of implemented machine learning algorithms. It is often used in industry and for tasks that do not require the complexity of deep learning models.\n",
        "\n",
        "The choice between PyTorch and scikit-learn depends on the nature of the task at hand. If you are working on a project that involves deep learning and neural networks, PyTorch would be a more appropriate choice. If your task is more focused on traditional machine learning algorithms and your dataset is not particularly large or complex, scikit-learn might be a more straightforward and efficient solution.\n",
        "\n",
        "In some cases, a combination of both PyTorch and scikit-learn might be used, leveraging the strengths of each library for different stages of a machine learning pipeline.\n"
      ],
      "metadata": {
        "id": "ROo5CAOaLjXg"
      }
    },
    {
      "cell_type": "markdown",
      "metadata": {
        "id": "0u4hDJpaTy-n"
      },
      "source": [
        "If you want to use PyTorch locally, you should have gone through the [PyTorch setup steps](https://pytorch.org/get-started/locally/). However, if you're running on Google Colab, everything should work (Google Colab comes with PyTorch and other libraries installed)."
      ]
    },
    {
      "cell_type": "markdown",
      "metadata": {
        "id": "ZziWDHAlo1OA"
      },
      "source": [
        "Firstly, import PyTorch and check the version we are using."
      ]
    },
    {
      "cell_type": "code",
      "execution_count": null,
      "metadata": {
        "colab": {
          "base_uri": "https://localhost:8080/",
          "height": 35
        },
        "id": "9tONoNQhTeVo",
        "outputId": "88b26f7f-0298-4b3e-a26a-d3ac4a8b7b1c"
      },
      "outputs": [
        {
          "data": {
            "application/vnd.google.colaboratory.intrinsic+json": {
              "type": "string"
            },
            "text/plain": [
              "'2.1.0+cu118'"
            ]
          },
          "execution_count": 63,
          "metadata": {},
          "output_type": "execute_result"
        }
      ],
      "source": [
        "import numpy as np\n",
        "import matplotlib.pyplot as plt\n",
        "import matplotlib.ticker as ticker\n",
        "import math\n",
        "import torch\n",
        "torch.__version__"
      ]
    },
    {
      "cell_type": "markdown",
      "metadata": {
        "id": "XklIa7vRphXn"
      },
      "source": [
        "# **INTRODUCTION TO TENSORS**\n",
        "\n",
        "\n",
        "\n"
      ]
    },
    {
      "cell_type": "markdown",
      "metadata": {
        "id": "st65IdUpPgx7"
      },
      "source": [
        "Tensors are specialized data structure that are very similar to array and matrices. We can use tensors to encode inputs and outputs of a model, as well as the model's parameters.\n",
        "\n",
        "Tensors are similar to numpy arrays. The mainly differ for two reasons:\n",
        "\n",
        "\n",
        "1.   they can run on GPUs to accelerate computation;\n",
        "2.   they are optimized for [automatic differentation](https://pytorch.org/tutorials/beginner/basics/autogradqs_tutorial.html)."
      ]
    },
    {
      "cell_type": "markdown",
      "metadata": {
        "id": "-LukSSWZskcX"
      },
      "source": [
        "**Initializing a Tensor**"
      ]
    },
    {
      "cell_type": "code",
      "execution_count": null,
      "metadata": {
        "colab": {
          "base_uri": "https://localhost:8080/"
        },
        "id": "n0bRpZQwszke",
        "outputId": "afa457ae-a027-420e-9896-33fd97a7d02d"
      },
      "outputs": [
        {
          "name": "stdout",
          "output_type": "stream",
          "text": [
            "First Tensor: \n",
            " tensor([[1, 2],\n",
            "        [3, 4]]) \n",
            "\n",
            "From Numpy: \n",
            " tensor([[1, 2],\n",
            "        [3, 4]]) \n",
            "\n",
            "Random Tensor: \n",
            " tensor([[0.8873, 0.8279, 0.6012],\n",
            "        [0.7540, 0.7262, 0.5297]]) \n",
            "\n",
            "Ones Tensor: \n",
            " tensor([[1., 1., 1.],\n",
            "        [1., 1., 1.]]) \n",
            "\n",
            "Zeros Tensor: \n",
            " tensor([[0., 0., 0.],\n",
            "        [0., 0., 0.]])\n"
          ]
        }
      ],
      "source": [
        "data = [[1, 2],[3, 4]]\n",
        "x_data = torch.tensor(data) # directly from data\n",
        "print(f\"First Tensor: \\n {x_data} \\n\")\n",
        "\n",
        "np_array = np.array(data)\n",
        "x_np = torch.from_numpy(np_array) # from numpy arrays\n",
        "print(f\"From Numpy: \\n {x_data} \\n\")\n",
        "\n",
        "# with random or constant values\n",
        "shape = (2,3)\n",
        "rand_tensor = torch.rand(shape)\n",
        "ones_tensor = torch.ones(shape)\n",
        "zeros_tensor = torch.zeros(shape)\n",
        "\n",
        "print(f\"Random Tensor: \\n {rand_tensor} \\n\")\n",
        "print(f\"Ones Tensor: \\n {ones_tensor} \\n\")\n",
        "print(f\"Zeros Tensor: \\n {zeros_tensor}\")"
      ]
    },
    {
      "cell_type": "markdown",
      "metadata": {
        "id": "D_oaovwJwaGX"
      },
      "source": [
        "**Attributes of a Tensor**\n",
        "\n",
        "Tensor attributes describe their shape, datatype, and the device on which they are stored."
      ]
    },
    {
      "cell_type": "code",
      "execution_count": null,
      "metadata": {
        "colab": {
          "base_uri": "https://localhost:8080/"
        },
        "id": "4Axv1JkAwmZq",
        "outputId": "9bc6c440-4dd2-4ad4-caf0-8311f733fade"
      },
      "outputs": [
        {
          "name": "stdout",
          "output_type": "stream",
          "text": [
            "Tensor: tensor([[0.8708, 0.4001, 0.3492, 0.5247],\n",
            "        [0.9128, 0.6372, 0.3638, 0.3688],\n",
            "        [0.9396, 0.9094, 0.6111, 0.8623]])\n",
            "Shape of tensor: torch.Size([3, 4])\n",
            "Datatype of tensor: torch.float32\n",
            "Device tensor is stored on: cpu\n"
          ]
        }
      ],
      "source": [
        "tensor = torch.rand(3,4)\n",
        "print(f\"Tensor: {tensor}\")\n",
        "print(f\"Shape of tensor: {tensor.shape}\")\n",
        "print(f\"Datatype of tensor: {tensor.dtype}\")\n",
        "print(f\"Device tensor is stored on: {tensor.device}\")"
      ]
    },
    {
      "cell_type": "markdown",
      "metadata": {
        "id": "HTUdzJrCxATC"
      },
      "source": [
        "As you can see, our tensor is stored on the CPU. Indeed, by default, tensors are created on the CPU.  \n",
        "\n",
        "As said before, PyTorch allows to run tensors on GPUs for faster computations. We need to explicitly move tensors to the GPU after checking for the  GPU availability. If you’re using Colab, allocate a GPU by going to Runtime > Change runtime type > GPU.\n",
        "\n",
        "PyTorch supports GPU use through CUDA. Indeed, GPUs are originally designed to handle graphics and real-time rendering, but thanks to the CUDA architecture, they can be leveraged for a wide range of scientific and machine learning computations. CUDA, which stands for Compute Unified Device Architecture, is a parallel computing platform and application programming interface (API) model created by NVIDIA.\n",
        "\n"
      ]
    },
    {
      "cell_type": "code",
      "execution_count": null,
      "metadata": {
        "colab": {
          "base_uri": "https://localhost:8080/"
        },
        "id": "5WZ5cUsjxlCf",
        "outputId": "ba1fe6c7-0e6e-4c1d-81d8-954cd029924c"
      },
      "outputs": [
        {
          "name": "stdout",
          "output_type": "stream",
          "text": [
            "Device tensor is stored on: cuda:0\n"
          ]
        }
      ],
      "source": [
        "if torch.cuda.is_available():\n",
        "    tensor = tensor.to(\"cuda\") # If we have more GPUs, we can specify the GPU ID.\n",
        "\n",
        "print(f\"Device tensor is stored on: {tensor.device}\")"
      ]
    },
    {
      "cell_type": "markdown",
      "metadata": {
        "id": "vQAmKIyD6ZWk"
      },
      "source": [
        "**Some operations on Tensors**\n",
        "\n",
        "You can check more operations [here](https://pytorch.org/docs/stable/torch.html)."
      ]
    },
    {
      "cell_type": "markdown",
      "metadata": {
        "id": "K6xObloU6oDl"
      },
      "source": [
        "*   Standard numpy-like indexing and slicing:\n",
        "\n",
        "\n",
        "\n",
        "\n",
        "\n"
      ]
    },
    {
      "cell_type": "code",
      "execution_count": null,
      "metadata": {
        "colab": {
          "base_uri": "https://localhost:8080/"
        },
        "id": "s_0AueN263jj",
        "outputId": "3850e115-559c-4210-f78c-824ac840a7ae"
      },
      "outputs": [
        {
          "name": "stdout",
          "output_type": "stream",
          "text": [
            "First row: tensor([0.8708, 0.4001, 0.3492, 0.5247], device='cuda:0')\n",
            "First column: tensor([0.8708, 0.9128, 0.9396], device='cuda:0')\n",
            "Last column: tensor([0.5247, 0.3688, 0.8623], device='cuda:0')\n",
            "tensor([[0.8708, 0.0000, 0.3492, 0.5247],\n",
            "        [0.9128, 0.0000, 0.3638, 0.3688],\n",
            "        [0.9396, 0.0000, 0.6111, 0.8623]], device='cuda:0')\n"
          ]
        }
      ],
      "source": [
        "print(f\"First row: {tensor[0]}\")\n",
        "print(f\"First column: {tensor[:, 0]}\")\n",
        "print(f\"Last column: {tensor[:,-1]}\")\n",
        "tensor[:,1] = 0\n",
        "print(tensor)"
      ]
    },
    {
      "cell_type": "markdown",
      "metadata": {
        "id": "PWzsFRsiQ1k7"
      },
      "source": [
        "\n",
        "\n",
        "*   Joining tensors\n",
        "\n"
      ]
    },
    {
      "cell_type": "code",
      "execution_count": null,
      "metadata": {
        "colab": {
          "base_uri": "https://localhost:8080/"
        },
        "id": "fibz3R1JQ6-T",
        "outputId": "9b15cd0f-a1e5-44e7-b99c-692be37841b4"
      },
      "outputs": [
        {
          "name": "stdout",
          "output_type": "stream",
          "text": [
            "tensor([[0.8708, 0.0000, 0.3492, 0.5247],\n",
            "        [0.9128, 0.0000, 0.3638, 0.3688],\n",
            "        [0.9396, 0.0000, 0.6111, 0.8623],\n",
            "        [0.8708, 0.0000, 0.3492, 0.5247],\n",
            "        [0.9128, 0.0000, 0.3638, 0.3688],\n",
            "        [0.9396, 0.0000, 0.6111, 0.8623],\n",
            "        [0.8708, 0.0000, 0.3492, 0.5247],\n",
            "        [0.9128, 0.0000, 0.3638, 0.3688],\n",
            "        [0.9396, 0.0000, 0.6111, 0.8623]], device='cuda:0')\n"
          ]
        }
      ],
      "source": [
        "t1 = torch.cat([tensor, tensor, tensor], dim=0)\n",
        "print(t1)"
      ]
    },
    {
      "cell_type": "markdown",
      "metadata": {
        "id": "LoXi-rydR__6"
      },
      "source": [
        "\n",
        "\n",
        "*   Arithmetic operations\n",
        "\n"
      ]
    },
    {
      "cell_type": "code",
      "execution_count": null,
      "metadata": {
        "colab": {
          "base_uri": "https://localhost:8080/"
        },
        "id": "Y5c0TJZ8SE59",
        "outputId": "ac91dc1c-08dc-4b49-af8c-5240c23939d9"
      },
      "outputs": [
        {
          "name": "stdout",
          "output_type": "stream",
          "text": [
            "tensor([[1.1556, 1.1154, 1.4841],\n",
            "        [1.1154, 1.1015, 1.3980],\n",
            "        [1.4841, 1.3980, 1.9999]], device='cuda:0')\n",
            "tensor([[1.1556, 1.1154, 1.4841],\n",
            "        [1.1154, 1.1015, 1.3980],\n",
            "        [1.4841, 1.3980, 1.9999]], device='cuda:0')\n"
          ]
        }
      ],
      "source": [
        "# Matrix multiplication between two tensors.\n",
        "# @ and tensor.matmul are equivalent\n",
        "# tensor.T is the transpose of a tensor\n",
        "\n",
        "y1 = tensor @ tensor.T\n",
        "y2 = tensor.matmul(tensor.T)\n",
        "\n",
        "print(y1)\n",
        "print(y2)"
      ]
    },
    {
      "cell_type": "code",
      "execution_count": null,
      "metadata": {
        "colab": {
          "base_uri": "https://localhost:8080/"
        },
        "id": "_AnEmFGAUole",
        "outputId": "783ec9cf-acc4-4792-c24c-020c527089aa"
      },
      "outputs": [
        {
          "name": "stdout",
          "output_type": "stream",
          "text": [
            "tensor([[0.7584, 0.0000, 0.1219, 0.2753],\n",
            "        [0.8332, 0.0000, 0.1323, 0.1360],\n",
            "        [0.8829, 0.0000, 0.3734, 0.7435]], device='cuda:0')\n",
            "tensor([[0.7584, 0.0000, 0.1219, 0.2753],\n",
            "        [0.8332, 0.0000, 0.1323, 0.1360],\n",
            "        [0.8829, 0.0000, 0.3734, 0.7435]], device='cuda:0')\n"
          ]
        }
      ],
      "source": [
        "# Element-wise product between two tensors.\n",
        "# * and tensor.mul are equivalent\n",
        "\n",
        "z1 = tensor * tensor\n",
        "z2 = tensor.mul(tensor)\n",
        "\n",
        "print(z1)\n",
        "print(z2)"
      ]
    },
    {
      "cell_type": "markdown",
      "metadata": {
        "id": "7y3jACuqU6a6"
      },
      "source": [
        "\n",
        "\n",
        "*   Single-element tensors\n",
        "\n"
      ]
    },
    {
      "cell_type": "code",
      "execution_count": null,
      "metadata": {
        "colab": {
          "base_uri": "https://localhost:8080/"
        },
        "id": "mXYbuPHdU_4l",
        "outputId": "eeaff351-e4a6-4b20-ec77-3a75015fec01"
      },
      "outputs": [
        {
          "name": "stdout",
          "output_type": "stream",
          "text": [
            "5.8030829429626465 <class 'float'>\n"
          ]
        }
      ],
      "source": [
        "agg = tensor.sum() # sum the elements of the tensor\n",
        "agg_item = agg.item() # you can access to the element of the tensor having one value\n",
        "print(agg_item, type(agg_item))"
      ]
    },
    {
      "cell_type": "markdown",
      "metadata": {
        "id": "c891a9O1asGf"
      },
      "source": [
        "# **AUTOMATIC DIFFERANTIATION WITH torch.autograd**"
      ]
    },
    {
      "cell_type": "markdown",
      "metadata": {
        "id": "TvZv6Z5ka6C9"
      },
      "source": [
        "PyTorch's Autograd feature is part of what make PyTorch flexible and fast for building machine learning projects.\n",
        "\n",
        "When training neural networks, the most frequently used algorithm is back propagation. In this algorithm, parameters (model weights) are adjusted according to the gradient of the loss function with respect to the given parameter.\n",
        "\n",
        "To compute those gradients, PyTorch has a built-in differentiation engine called `torch.autograd`. It allows for the rapid and easy computation of multiple partial derivatives (gradients) over a complex computation.\n",
        "\n",
        "How does autograd work?\n",
        "\n",
        "It traces the computation dynamically at runtime, building a **computational graph**."
      ]
    },
    {
      "cell_type": "markdown",
      "metadata": {
        "id": "Pda4_a2Zd5yO"
      },
      "source": [
        "Let's start with a simple example to understand how autograd works.\n",
        "\n",
        "We define a tensor full of evenly spaced values on the interval [0,2π], and specify `requires_grad=True`. Setting this flag means that in every computation that follows, autograd will be accumulating the history of the computation in the output tensors of that computation."
      ]
    },
    {
      "cell_type": "code",
      "execution_count": null,
      "metadata": {
        "colab": {
          "base_uri": "https://localhost:8080/"
        },
        "id": "VmZPmmaBc9IG",
        "outputId": "77a816fe-9e27-4ab8-a9b3-508bdd06df96"
      },
      "outputs": [
        {
          "name": "stdout",
          "output_type": "stream",
          "text": [
            "tensor([0.0000, 0.2618, 0.5236, 0.7854, 1.0472, 1.3090, 1.5708, 1.8326, 2.0944,\n",
            "        2.3562, 2.6180, 2.8798, 3.1416, 3.4034, 3.6652, 3.9270, 4.1888, 4.4506,\n",
            "        4.7124, 4.9742, 5.2360, 5.4978, 5.7596, 6.0214, 6.2832],\n",
            "       requires_grad=True)\n"
          ]
        }
      ],
      "source": [
        "a = torch.linspace(0., 2. * math.pi, steps=25, requires_grad=True)\n",
        "print(a)"
      ]
    },
    {
      "cell_type": "markdown",
      "metadata": {
        "id": "qcWGlR3_eYt_"
      },
      "source": [
        "Note that the default value of `requires_grad` is `False`. Indeed, if we take any other tensor computed in the previous Section, it is `False` since we did not specify it as `True`."
      ]
    },
    {
      "cell_type": "code",
      "execution_count": null,
      "metadata": {
        "colab": {
          "base_uri": "https://localhost:8080/"
        },
        "id": "bjiybHWCdPb2",
        "outputId": "99b766a9-fdbf-4f65-b91e-54be6d12d44d"
      },
      "outputs": [
        {
          "data": {
            "text/plain": [
              "False"
            ]
          },
          "execution_count": 73,
          "metadata": {},
          "output_type": "execute_result"
        }
      ],
      "source": [
        "t1.requires_grad"
      ]
    },
    {
      "cell_type": "markdown",
      "metadata": {
        "id": "NItGnNL4fvCd"
      },
      "source": [
        "Let's perform some computations on `a`."
      ]
    },
    {
      "cell_type": "code",
      "execution_count": null,
      "metadata": {
        "colab": {
          "base_uri": "https://localhost:8080/"
        },
        "id": "5mjwkrD8f3cY",
        "outputId": "2c59be40-e362-4288-e6a7-a8f41c924d98"
      },
      "outputs": [
        {
          "name": "stdout",
          "output_type": "stream",
          "text": [
            "tensor([ 0.0000e+00,  2.5882e-01,  5.0000e-01,  7.0711e-01,  8.6603e-01,\n",
            "         9.6593e-01,  1.0000e+00,  9.6593e-01,  8.6603e-01,  7.0711e-01,\n",
            "         5.0000e-01,  2.5882e-01, -8.7423e-08, -2.5882e-01, -5.0000e-01,\n",
            "        -7.0711e-01, -8.6603e-01, -9.6593e-01, -1.0000e+00, -9.6593e-01,\n",
            "        -8.6603e-01, -7.0711e-01, -5.0000e-01, -2.5882e-01,  1.7485e-07],\n",
            "       grad_fn=<SinBackward0>)\n"
          ]
        }
      ],
      "source": [
        "b = torch.sin(a)\n",
        "print(b)"
      ]
    },
    {
      "cell_type": "markdown",
      "metadata": {
        "id": "49nCDVD4lJ9S"
      },
      "source": [
        "We can plot the tensor `b` computed. This operation does not require to memorize the performed operation on the tensor to compute derivatives. Then, we need to disable the gradient tracking to plot our tensor.\n",
        "\n",
        "We do this in the cases in which we do not need to track the computational history for gradient computation."
      ]
    },
    {
      "cell_type": "code",
      "execution_count": null,
      "metadata": {
        "colab": {
          "base_uri": "https://localhost:8080/",
          "height": 430
        },
        "id": "jxip2b-xlI6j",
        "outputId": "771cf113-c130-45ad-e250-f59f2b83406c"
      },
      "outputs": [
        {
          "data": {
            "image/png": "[encoded data removed]",
            "text/plain": [
              "<Figure size 640x480 with 1 Axes>"
            ]
          },
          "metadata": {},
          "output_type": "display_data"
        }
      ],
      "source": [
        "with torch.no_grad():\n",
        "  plt.plot(a, b)\n",
        "\n",
        "# or equivalent:\n",
        "# plt.plot(a.detach(), b.detach())"
      ]
    },
    {
      "cell_type": "markdown",
      "metadata": {
        "id": "f3XBfcSimwU7"
      },
      "source": [
        "Let's compute some other operations."
      ]
    },
    {
      "cell_type": "code",
      "execution_count": null,
      "metadata": {
        "colab": {
          "base_uri": "https://localhost:8080/"
        },
        "id": "44T9XCt5gLfd",
        "outputId": "90e428a7-c565-4dd1-a57a-2e08c5470b62"
      },
      "outputs": [
        {
          "name": "stdout",
          "output_type": "stream",
          "text": [
            "tensor([ 0.0000e+00,  5.1764e-01,  1.0000e+00,  1.4142e+00,  1.7321e+00,\n",
            "         1.9319e+00,  2.0000e+00,  1.9319e+00,  1.7321e+00,  1.4142e+00,\n",
            "         1.0000e+00,  5.1764e-01, -1.7485e-07, -5.1764e-01, -1.0000e+00,\n",
            "        -1.4142e+00, -1.7321e+00, -1.9319e+00, -2.0000e+00, -1.9319e+00,\n",
            "        -1.7321e+00, -1.4142e+00, -1.0000e+00, -5.1764e-01,  3.4969e-07],\n",
            "       grad_fn=<MulBackward0>)\n",
            "tensor([ 1.0000e+00,  1.5176e+00,  2.0000e+00,  2.4142e+00,  2.7321e+00,\n",
            "         2.9319e+00,  3.0000e+00,  2.9319e+00,  2.7321e+00,  2.4142e+00,\n",
            "         2.0000e+00,  1.5176e+00,  1.0000e+00,  4.8236e-01, -3.5763e-07,\n",
            "        -4.1421e-01, -7.3205e-01, -9.3185e-01, -1.0000e+00, -9.3185e-01,\n",
            "        -7.3205e-01, -4.1421e-01,  4.7684e-07,  4.8236e-01,  1.0000e+00],\n",
            "       grad_fn=<AddBackward0>)\n",
            "tensor(25., grad_fn=<SumBackward0>)\n"
          ]
        }
      ],
      "source": [
        "c = 2 * b\n",
        "print(c)\n",
        "d = c + 1\n",
        "print(d)\n",
        "out = d.sum()\n",
        "print(out)"
      ]
    },
    {
      "cell_type": "markdown",
      "metadata": {
        "id": "Ho0Pzmivp0xu"
      },
      "source": [
        "Each `grad_fn` stored with our tensors allows you to walk the computation all the way back to its inputs with its `next_functions` property. By exploiting the `next_functions` property on `d`, we can check the gradient functions for all the prior tensors. Note that `a.grad_fn` is reported as `None`, indicating that this was an input to the function with no history of its own."
      ]
    },
    {
      "cell_type": "code",
      "execution_count": null,
      "metadata": {
        "colab": {
          "base_uri": "https://localhost:8080/"
        },
        "id": "5457HM7Uqs_z",
        "outputId": "f3b1bdec-fe16-440e-e49c-fc918d7cbd8c"
      },
      "outputs": [
        {
          "name": "stdout",
          "output_type": "stream",
          "text": [
            "out:\n",
            "<SumBackward0 object at 0x78df153a7880>\n",
            "((<AddBackward0 object at 0x78df153a6c20>, 0),)\n",
            "((<MulBackward0 object at 0x78df153a7880>, 0), (None, 0))\n",
            "((<SinBackward0 object at 0x78df14d6dea0>, 0), (None, 0))\n",
            "((<AccumulateGrad object at 0x78df153a7880>, 0),)\n",
            "()\n",
            "\n",
            "a:\n",
            "None\n"
          ]
        }
      ],
      "source": [
        "print('out:')\n",
        "print(out.grad_fn)\n",
        "print(out.grad_fn.next_functions)\n",
        "print(out.grad_fn.next_functions[0][0].next_functions)\n",
        "print(out.grad_fn.next_functions[0][0].next_functions[0][0].next_functions)\n",
        "print(out.grad_fn.next_functions[0][0].next_functions[0][0].next_functions[0][0].next_functions)\n",
        "print(out.grad_fn.next_functions[0][0].next_functions[0][0].next_functions[0][0].next_functions[0][0].next_functions)\n",
        "\n",
        "print('\\na:')\n",
        "print(a.grad_fn)"
      ]
    },
    {
      "cell_type": "markdown",
      "metadata": {
        "id": "m5iRiCxex9-r"
      },
      "source": [
        "At this point, we have built the computational graph. How do we get derivatives? We call the `backward()` method on the output, and check the input's `grad` property to inspect the gradients.\n",
        "\n",
        "Be aware that only leaf nodes of the computation have their gradients computed. If you try, for example, `print(c.grad)` you'd get back `None`. In this simple example, only the input is a leaf node, so only it has gradients computed."
      ]
    },
    {
      "cell_type": "code",
      "execution_count": null,
      "metadata": {
        "colab": {
          "base_uri": "https://localhost:8080/"
        },
        "id": "ySGc4c3dwlZy",
        "outputId": "df870712-13c8-422e-cec5-1c2c8f6d2d8c"
      },
      "outputs": [
        {
          "name": "stdout",
          "output_type": "stream",
          "text": [
            "tensor([ 2.0000e+00,  1.9319e+00,  1.7321e+00,  1.4142e+00,  1.0000e+00,\n",
            "         5.1764e-01, -8.7423e-08, -5.1764e-01, -1.0000e+00, -1.4142e+00,\n",
            "        -1.7321e+00, -1.9319e+00, -2.0000e+00, -1.9319e+00, -1.7321e+00,\n",
            "        -1.4142e+00, -1.0000e+00, -5.1764e-01,  2.3850e-08,  5.1764e-01,\n",
            "         1.0000e+00,  1.4142e+00,  1.7321e+00,  1.9319e+00,  2.0000e+00])\n"
          ]
        }
      ],
      "source": [
        "out.backward()\n",
        "print(a.grad)"
      ]
    },
    {
      "cell_type": "markdown",
      "metadata": {
        "id": "HyMGigaQzXqD"
      },
      "source": [
        "Plot the derivative."
      ]
    },
    {
      "cell_type": "code",
      "execution_count": null,
      "metadata": {
        "colab": {
          "base_uri": "https://localhost:8080/",
          "height": 447
        },
        "id": "h-jjHpzsxqXr",
        "outputId": "79bff9cb-1beb-4008-aa04-72cccc727139"
      },
      "outputs": [
        {
          "data": {
            "text/plain": [
              "[<matplotlib.lines.Line2D at 0x78df151e6f50>]"
            ]
          },
          "execution_count": 79,
          "metadata": {},
          "output_type": "execute_result"
        },
        {
          "data": {
            "image/png": "[encoded data removed]",
            "text/plain": [
              "<Figure size 640x480 with 1 Axes>"
            ]
          },
          "metadata": {},
          "output_type": "display_data"
        }
      ],
      "source": [
        "plt.plot(a.detach(), a.grad.detach())"
      ]
    },
    {
      "cell_type": "markdown",
      "metadata": {
        "id": "9OApoIzv6w9_"
      },
      "source": [
        "# **Neural Network for Binary Classification: diabetes.csv**\n",
        "\n"
      ]
    },
    {
      "cell_type": "markdown",
      "source": [
        "Now, we see how to build a simple neural network in PyTorch for a classification task.\n",
        "\n",
        "We use the `diabetes.csv` dataset."
      ],
      "metadata": {
        "id": "3G-SBOxMflVe"
      }
    },
    {
      "cell_type": "code",
      "execution_count": null,
      "metadata": {
        "colab": {
          "base_uri": "https://localhost:8080/"
        },
        "id": "ISzVB3Y47zC1",
        "outputId": "679eb40c-d2a6-4143-b75d-3c7b6e50bad8"
      },
      "outputs": [
        {
          "output_type": "stream",
          "name": "stdout",
          "text": [
            "   Pregnancies  Glucose  BloodPressure  SkinThickness  Insulin   BMI  \\\n",
            "0            6      148             72             35        0  33.6   \n",
            "1            1       85             66             29        0  26.6   \n",
            "2            8      183             64              0        0  23.3   \n",
            "3            1       89             66             23       94  28.1   \n",
            "4            0      137             40             35      168  43.1   \n",
            "\n",
            "   DiabetesPedigreeFunction  Age  Outcome  \n",
            "0                     0.627   50        1  \n",
            "1                     0.351   31        0  \n",
            "2                     0.672   32        1  \n",
            "3                     0.167   21        0  \n",
            "4                     2.288   33        1  \n"
          ]
        }
      ],
      "source": [
        "import pandas as pd\n",
        "from sklearn.model_selection import train_test_split\n",
        "from sklearn.preprocessing import StandardScaler, RobustScaler\n",
        "import torch\n",
        "\n",
        "# Load dataset\n",
        "diabetes = pd.read_csv('sample_data/diabetes.csv')\n",
        "print(diabetes.head())\n",
        "X = diabetes.drop(['Outcome'], axis=1).values\n",
        "y = diabetes['Outcome'].values\n",
        "\n",
        "# Split the dataset into training and testing sets\n",
        "X_train, X_test, y_train, y_test = train_test_split(X, y, test_size=0.2, random_state=42)\n",
        "\n",
        "# Feature normalization\n",
        "scaler = RobustScaler()\n",
        "X_train_std = scaler.fit_transform(X_train)\n",
        "X_test_std = scaler.transform(X_test)\n"
      ]
    },
    {
      "cell_type": "markdown",
      "metadata": {
        "id": "j6CiFq6k9dDB"
      },
      "source": [
        "We've got some data ready, now it's time to build a model.\n",
        "\n",
        "We'll break it down into a few parts.\n",
        "\n",
        "1.   Set up device agnostic code (so our model can run on CPU or GPU)\n",
        "2.   Construct a neural network (subclass of `nn.Module`)\n",
        "3.   Define a loss function and an optimizer\n",
        "4.   Create a training loop\n",
        "\n",
        "Let's start by importing `nn` and setting up device agnostic code.\n",
        "\n"
      ]
    },
    {
      "cell_type": "code",
      "execution_count": null,
      "metadata": {
        "colab": {
          "base_uri": "https://localhost:8080/",
          "height": 36
        },
        "id": "CNEfdTcs-KgU",
        "outputId": "e094614d-e05e-49e8-9da3-9afcc57ff524"
      },
      "outputs": [
        {
          "output_type": "execute_result",
          "data": {
            "text/plain": [
              "'cpu'"
            ],
            "application/vnd.google.colaboratory.intrinsic+json": {
              "type": "string"
            }
          },
          "metadata": {},
          "execution_count": 3
        }
      ],
      "source": [
        "from torch import nn\n",
        "from torch import optim\n",
        "device = \"cuda\" if torch.cuda.is_available() else \"cpu\"\n",
        "device"
      ]
    },
    {
      "cell_type": "markdown",
      "metadata": {
        "id": "jhBYQenE_w1j"
      },
      "source": [
        "In PyTorch, `nn` stands for neural network. It is a module that provides classes and functions to help you define and train neural networks. The `nn` module in PyTorch includes various pre-defined layers, loss functions, and other components commonly used in the construction of neural networks.\n",
        "\n",
        "When you define your neural network architecture, you typically create a class that subclasses `nn.Module` and define the layers and operations within the `__init__` and `forward` methods.\n",
        "\n",
        "We will first use `SimpleNN_1` to make predictions. This network is trained with a non-linear activation function (the Sigmoid)."
      ]
    },
    {
      "cell_type": "code",
      "execution_count": null,
      "metadata": {
        "id": "TmDWAfuA-UxE"
      },
      "outputs": [],
      "source": [
        "class SimpleNN_1(nn.Module):\n",
        "    def __init__(self, input_size, hidden_size, output_size):\n",
        "        super(SimpleNN_1, self).__init__() # SimpleNN is a sub-class of nn.Module\n",
        "        self.fc1 = nn.Linear(input_size, hidden_size) # First layer -> Hidden Layer\n",
        "        self.fc2 = nn.Linear(hidden_size, output_size) # Hidden Layer -> Output\n",
        "        self.sigmoid = nn.Sigmoid() # Activation (it is a classification task) -> We produce predictions\n",
        "\n",
        "    def forward(self, x):\n",
        "        x = self.fc1(x)\n",
        "        x = self.sigmoid(x)\n",
        "        x = self.fc2(x)\n",
        "        x = self.sigmoid(x)\n",
        "        return x"
      ]
    },
    {
      "cell_type": "markdown",
      "source": [
        "Then, we will use `SimpleNN_2` to make predictions. This network is trained without the Sigmoid function."
      ],
      "metadata": {
        "id": "7sw7LOayafQ6"
      }
    },
    {
      "cell_type": "code",
      "source": [
        "class SimpleNN_2(nn.Module):\n",
        "    def __init__(self, input_size, hidden_size, output_size):\n",
        "        super(SimpleNN_2, self).__init__() # SimpleNN is a sub-class of nn.Module\n",
        "        self.fc1 = nn.Linear(input_size, hidden_size) # First layer -> Hidden Layer\n",
        "        # self.sigmoid1 = nn.Sigmoid() # Activation\n",
        "        self.fc2 = nn.Linear(hidden_size, hidden_size) # Hidden Layer -> Hidden Layer\n",
        "        self.fc3 = nn.Linear(hidden_size, output_size) # Hidden Layer -> Output\n",
        "        self.sigmoid = nn.Sigmoid() # Activation (it is a classification task) -> We produce predictions\n",
        "\n",
        "    def forward(self, x):\n",
        "        x = self.fc1(x)\n",
        "        # x = self.sigmoid(x)\n",
        "        x = self.fc2(x)\n",
        "        x = self.fc3(x)\n",
        "        x = self.sigmoid(x)\n",
        "        return x"
      ],
      "metadata": {
        "id": "dlRjdKbBn2gJ"
      },
      "execution_count": null,
      "outputs": []
    },
    {
      "cell_type": "markdown",
      "source": [
        "Just define the accuracy metric to evaluate our neural network."
      ],
      "metadata": {
        "id": "M5r6461mo1cE"
      }
    },
    {
      "cell_type": "code",
      "execution_count": null,
      "metadata": {
        "id": "NjBYu8JQGtq8"
      },
      "outputs": [],
      "source": [
        "# Calculate accuracy (a classification metric)\n",
        "def accuracy_fn(y_true, y_pred):\n",
        "    correct = torch.eq(y_true, y_pred).sum().item() # torch.eq() calculates where two tensors are equal\n",
        "    acc = (correct / len(y_pred)) * 100\n",
        "    return acc\n"
      ]
    },
    {
      "cell_type": "markdown",
      "source": [
        "Now, we define:\n",
        "\n",
        "*   the input, hidden, and output size\n",
        "*   the loss function (how wrong we are with respect to predictions)\n",
        "*   the optimizer (tells your model how to update its internal parameters to best lower the loss)\n",
        "\n"
      ],
      "metadata": {
        "id": "POPoiHlvocXM"
      }
    },
    {
      "cell_type": "code",
      "execution_count": null,
      "metadata": {
        "id": "6eXYa_TqBJ5f"
      },
      "outputs": [],
      "source": [
        "torch.manual_seed(42)\n",
        "non_linearity = True\n",
        "input_size = X.shape[1]\n",
        "hidden_size = 50\n",
        "output_size = 1\n",
        "if non_linearity == True: # Use NN with non-linear activation function\n",
        "  model = SimpleNN_1(input_size, hidden_size, output_size).to(device)\n",
        "else: # Use NN without non-linear activation function\n",
        "  model = SimpleNN_2(input_size, hidden_size, output_size).to(device)\n",
        "criterion = nn.BCELoss()  # Binary Cross Entropy Loss for binary classification\n",
        "optimizer = optim.SGD(model.parameters(), lr=0.001)  # SGD optimizer\n",
        "X_train_std = torch.from_numpy(X_train_std).float().to(device)\n",
        "X_test_std = torch.from_numpy(X_test_std).float().to(device)\n",
        "y_train = torch.from_numpy(y_train).float().to(device)\n",
        "y_test= torch.from_numpy(y_test).float().to(device)"
      ]
    },
    {
      "cell_type": "markdown",
      "source": [
        "With a loop, we train our model."
      ],
      "metadata": {
        "id": "OvamTMS5pAFS"
      }
    },
    {
      "cell_type": "code",
      "source": [
        "epochs = 3000\n",
        "for epoch in range(epochs):\n",
        "  model.train() # we just inform the model that we are training it.\n",
        "  outputs = model(X_train_std) # we obtain the predictions on training set\n",
        "  outputs = outputs.squeeze() # we adapt prediction size to our labels\n",
        "  # print(outputs)\n",
        "  loss = criterion(outputs, y_train) # compute loss function\n",
        "  outputs = torch.round(outputs).float() # transform predictions in labels\n",
        "  acc = accuracy_fn(y_true=y_train,\n",
        "                          y_pred=outputs)\n",
        "  # compute loss gradients with respect to model's parameters\n",
        "  loss.backward()\n",
        "  # update the model parameters based on the computed gradients.\n",
        "  optimizer.step()\n",
        "  # In PyTorch, for example, when you perform backpropagation to compute\n",
        "  # the gradients of the loss with respect to the model parameters, these\n",
        "  # gradients accumulate by default through the epochs. Therefore, before\n",
        "  # computing the gradients for a new batch, it's a common practice to zero\n",
        "  # them using this line to avoid interference from previous iterations.\n",
        "  optimizer.zero_grad()\n",
        "  model.eval() # we just inform the model that we are evaluating it.\n",
        "  with torch.inference_mode(): # we are doing inference: we don't need to compute gradients\n",
        "    # 1. Forward pass\n",
        "    test_outputs = model(X_test_std)\n",
        "    test_outputs = test_outputs.squeeze()\n",
        "    test_loss = criterion(test_outputs,\n",
        "                        y_test)\n",
        "    test_outputs = torch.round(test_outputs).float()\n",
        "    # print(test_outputs)\n",
        "    test_acc = accuracy_fn(y_true=y_test,\n",
        "                            y_pred=test_outputs)\n",
        "    # 2. Caculate loss/accuracy\n",
        "\n",
        "\n",
        "  if (epoch + 1) % 20 == 0:\n",
        "        print(f\"Epoch: {epoch} | Loss: {loss:.5f}, Accuracy: {acc:.2f}% | Test loss: {test_loss:.5f}, Test acc: {test_acc:.2f}%\")"
      ],
      "metadata": {
        "colab": {
          "base_uri": "https://localhost:8080/"
        },
        "id": "-BHudfMlo-vW",
        "outputId": "47713080-6e59-41f4-fd41-8c6facf3ae3f"
      },
      "execution_count": null,
      "outputs": [
        {
          "output_type": "stream",
          "name": "stdout",
          "text": [
            "Epoch: 19 | Loss: 0.70105, Accuracy: 40.23% | Test loss: 0.69544, Test acc: 44.81%\n",
            "Epoch: 39 | Loss: 0.69360, Accuracy: 50.00% | Test loss: 0.68870, Test acc: 60.39%\n",
            "Epoch: 59 | Loss: 0.68704, Accuracy: 60.10% | Test loss: 0.68281, Test acc: 61.04%\n",
            "Epoch: 79 | Loss: 0.68128, Accuracy: 64.82% | Test loss: 0.67767, Test acc: 63.64%\n",
            "Epoch: 99 | Loss: 0.67621, Accuracy: 65.31% | Test loss: 0.67317, Test acc: 66.23%\n",
            "Epoch: 119 | Loss: 0.67174, Accuracy: 65.31% | Test loss: 0.66923, Test acc: 66.88%\n",
            "Epoch: 139 | Loss: 0.66780, Accuracy: 65.15% | Test loss: 0.66579, Test acc: 66.23%\n",
            "Epoch: 159 | Loss: 0.66432, Accuracy: 65.47% | Test loss: 0.66277, Test acc: 64.94%\n",
            "Epoch: 179 | Loss: 0.66125, Accuracy: 65.31% | Test loss: 0.66013, Test acc: 65.58%\n",
            "Epoch: 199 | Loss: 0.65853, Accuracy: 65.31% | Test loss: 0.65781, Test acc: 64.94%\n",
            "Epoch: 219 | Loss: 0.65612, Accuracy: 65.31% | Test loss: 0.65578, Test acc: 64.94%\n",
            "Epoch: 239 | Loss: 0.65398, Accuracy: 65.31% | Test loss: 0.65399, Test acc: 64.29%\n",
            "Epoch: 259 | Loss: 0.65208, Accuracy: 65.31% | Test loss: 0.65241, Test acc: 64.29%\n",
            "Epoch: 279 | Loss: 0.65039, Accuracy: 65.31% | Test loss: 0.65102, Test acc: 64.29%\n",
            "Epoch: 299 | Loss: 0.64888, Accuracy: 65.31% | Test loss: 0.64979, Test acc: 64.29%\n",
            "Epoch: 319 | Loss: 0.64753, Accuracy: 65.31% | Test loss: 0.64871, Test acc: 64.29%\n",
            "Epoch: 339 | Loss: 0.64632, Accuracy: 65.31% | Test loss: 0.64775, Test acc: 64.29%\n",
            "Epoch: 359 | Loss: 0.64523, Accuracy: 65.31% | Test loss: 0.64689, Test acc: 64.29%\n",
            "Epoch: 379 | Loss: 0.64425, Accuracy: 65.31% | Test loss: 0.64613, Test acc: 64.29%\n",
            "Epoch: 399 | Loss: 0.64337, Accuracy: 65.31% | Test loss: 0.64545, Test acc: 64.29%\n",
            "Epoch: 419 | Loss: 0.64257, Accuracy: 65.31% | Test loss: 0.64484, Test acc: 64.29%\n",
            "Epoch: 439 | Loss: 0.64184, Accuracy: 65.31% | Test loss: 0.64430, Test acc: 64.29%\n",
            "Epoch: 459 | Loss: 0.64118, Accuracy: 65.31% | Test loss: 0.64380, Test acc: 64.29%\n",
            "Epoch: 479 | Loss: 0.64057, Accuracy: 65.31% | Test loss: 0.64336, Test acc: 64.29%\n",
            "Epoch: 499 | Loss: 0.64001, Accuracy: 65.31% | Test loss: 0.64295, Test acc: 64.29%\n",
            "Epoch: 519 | Loss: 0.63950, Accuracy: 65.31% | Test loss: 0.64258, Test acc: 64.29%\n",
            "Epoch: 539 | Loss: 0.63903, Accuracy: 65.31% | Test loss: 0.64224, Test acc: 64.29%\n",
            "Epoch: 559 | Loss: 0.63859, Accuracy: 65.31% | Test loss: 0.64193, Test acc: 64.29%\n",
            "Epoch: 579 | Loss: 0.63819, Accuracy: 65.31% | Test loss: 0.64164, Test acc: 64.29%\n",
            "Epoch: 599 | Loss: 0.63781, Accuracy: 65.31% | Test loss: 0.64137, Test acc: 64.29%\n",
            "Epoch: 619 | Loss: 0.63745, Accuracy: 65.31% | Test loss: 0.64111, Test acc: 64.29%\n",
            "Epoch: 639 | Loss: 0.63711, Accuracy: 65.31% | Test loss: 0.64088, Test acc: 64.29%\n",
            "Epoch: 659 | Loss: 0.63679, Accuracy: 65.31% | Test loss: 0.64065, Test acc: 64.29%\n",
            "Epoch: 679 | Loss: 0.63649, Accuracy: 65.31% | Test loss: 0.64044, Test acc: 64.29%\n",
            "Epoch: 699 | Loss: 0.63621, Accuracy: 65.31% | Test loss: 0.64023, Test acc: 64.29%\n",
            "Epoch: 719 | Loss: 0.63593, Accuracy: 65.31% | Test loss: 0.64004, Test acc: 64.29%\n",
            "Epoch: 739 | Loss: 0.63567, Accuracy: 65.31% | Test loss: 0.63985, Test acc: 64.29%\n",
            "Epoch: 759 | Loss: 0.63542, Accuracy: 65.31% | Test loss: 0.63967, Test acc: 64.29%\n",
            "Epoch: 779 | Loss: 0.63517, Accuracy: 65.31% | Test loss: 0.63949, Test acc: 64.29%\n",
            "Epoch: 799 | Loss: 0.63494, Accuracy: 65.31% | Test loss: 0.63932, Test acc: 64.29%\n",
            "Epoch: 819 | Loss: 0.63471, Accuracy: 65.31% | Test loss: 0.63915, Test acc: 64.29%\n",
            "Epoch: 839 | Loss: 0.63449, Accuracy: 65.31% | Test loss: 0.63898, Test acc: 64.29%\n",
            "Epoch: 859 | Loss: 0.63427, Accuracy: 65.31% | Test loss: 0.63882, Test acc: 64.29%\n",
            "Epoch: 879 | Loss: 0.63406, Accuracy: 65.31% | Test loss: 0.63866, Test acc: 64.29%\n",
            "Epoch: 899 | Loss: 0.63385, Accuracy: 65.31% | Test loss: 0.63850, Test acc: 64.29%\n",
            "Epoch: 919 | Loss: 0.63365, Accuracy: 65.31% | Test loss: 0.63835, Test acc: 64.29%\n",
            "Epoch: 939 | Loss: 0.63345, Accuracy: 65.31% | Test loss: 0.63819, Test acc: 64.29%\n",
            "Epoch: 959 | Loss: 0.63325, Accuracy: 65.31% | Test loss: 0.63804, Test acc: 64.29%\n",
            "Epoch: 979 | Loss: 0.63306, Accuracy: 65.31% | Test loss: 0.63788, Test acc: 64.29%\n",
            "Epoch: 999 | Loss: 0.63286, Accuracy: 65.31% | Test loss: 0.63773, Test acc: 64.29%\n",
            "Epoch: 1019 | Loss: 0.63267, Accuracy: 65.31% | Test loss: 0.63758, Test acc: 64.29%\n",
            "Epoch: 1039 | Loss: 0.63249, Accuracy: 65.31% | Test loss: 0.63742, Test acc: 64.29%\n",
            "Epoch: 1059 | Loss: 0.63230, Accuracy: 65.31% | Test loss: 0.63727, Test acc: 64.29%\n",
            "Epoch: 1079 | Loss: 0.63212, Accuracy: 65.31% | Test loss: 0.63712, Test acc: 64.29%\n",
            "Epoch: 1099 | Loss: 0.63193, Accuracy: 65.31% | Test loss: 0.63697, Test acc: 64.29%\n",
            "Epoch: 1119 | Loss: 0.63175, Accuracy: 65.31% | Test loss: 0.63682, Test acc: 64.29%\n",
            "Epoch: 1139 | Loss: 0.63157, Accuracy: 65.31% | Test loss: 0.63667, Test acc: 64.29%\n",
            "Epoch: 1159 | Loss: 0.63139, Accuracy: 65.31% | Test loss: 0.63651, Test acc: 64.29%\n",
            "Epoch: 1179 | Loss: 0.63122, Accuracy: 65.31% | Test loss: 0.63636, Test acc: 64.29%\n",
            "Epoch: 1199 | Loss: 0.63104, Accuracy: 65.31% | Test loss: 0.63621, Test acc: 64.29%\n",
            "Epoch: 1219 | Loss: 0.63086, Accuracy: 65.31% | Test loss: 0.63606, Test acc: 64.29%\n",
            "Epoch: 1239 | Loss: 0.63069, Accuracy: 65.31% | Test loss: 0.63591, Test acc: 64.29%\n",
            "Epoch: 1259 | Loss: 0.63051, Accuracy: 65.31% | Test loss: 0.63576, Test acc: 64.29%\n",
            "Epoch: 1279 | Loss: 0.63034, Accuracy: 65.31% | Test loss: 0.63560, Test acc: 64.29%\n",
            "Epoch: 1299 | Loss: 0.63016, Accuracy: 65.31% | Test loss: 0.63545, Test acc: 64.29%\n",
            "Epoch: 1319 | Loss: 0.62999, Accuracy: 65.31% | Test loss: 0.63530, Test acc: 64.29%\n",
            "Epoch: 1339 | Loss: 0.62982, Accuracy: 65.31% | Test loss: 0.63515, Test acc: 64.29%\n",
            "Epoch: 1359 | Loss: 0.62964, Accuracy: 65.31% | Test loss: 0.63499, Test acc: 64.29%\n",
            "Epoch: 1379 | Loss: 0.62947, Accuracy: 65.31% | Test loss: 0.63484, Test acc: 64.29%\n",
            "Epoch: 1399 | Loss: 0.62930, Accuracy: 65.31% | Test loss: 0.63469, Test acc: 64.29%\n",
            "Epoch: 1419 | Loss: 0.62913, Accuracy: 65.31% | Test loss: 0.63453, Test acc: 64.29%\n",
            "Epoch: 1439 | Loss: 0.62896, Accuracy: 65.31% | Test loss: 0.63438, Test acc: 64.29%\n",
            "Epoch: 1459 | Loss: 0.62879, Accuracy: 65.31% | Test loss: 0.63423, Test acc: 64.29%\n",
            "Epoch: 1479 | Loss: 0.62862, Accuracy: 65.31% | Test loss: 0.63407, Test acc: 64.29%\n",
            "Epoch: 1499 | Loss: 0.62845, Accuracy: 65.31% | Test loss: 0.63392, Test acc: 64.29%\n",
            "Epoch: 1519 | Loss: 0.62828, Accuracy: 65.31% | Test loss: 0.63377, Test acc: 64.29%\n",
            "Epoch: 1539 | Loss: 0.62811, Accuracy: 65.31% | Test loss: 0.63361, Test acc: 64.29%\n",
            "Epoch: 1559 | Loss: 0.62794, Accuracy: 65.31% | Test loss: 0.63346, Test acc: 64.29%\n",
            "Epoch: 1579 | Loss: 0.62777, Accuracy: 65.31% | Test loss: 0.63331, Test acc: 64.29%\n",
            "Epoch: 1599 | Loss: 0.62760, Accuracy: 65.31% | Test loss: 0.63315, Test acc: 64.29%\n",
            "Epoch: 1619 | Loss: 0.62743, Accuracy: 65.31% | Test loss: 0.63300, Test acc: 64.29%\n",
            "Epoch: 1639 | Loss: 0.62727, Accuracy: 65.31% | Test loss: 0.63284, Test acc: 64.29%\n",
            "Epoch: 1659 | Loss: 0.62710, Accuracy: 65.31% | Test loss: 0.63269, Test acc: 64.29%\n",
            "Epoch: 1679 | Loss: 0.62693, Accuracy: 65.31% | Test loss: 0.63254, Test acc: 64.29%\n",
            "Epoch: 1699 | Loss: 0.62676, Accuracy: 65.31% | Test loss: 0.63238, Test acc: 64.29%\n",
            "Epoch: 1719 | Loss: 0.62660, Accuracy: 65.31% | Test loss: 0.63223, Test acc: 64.29%\n",
            "Epoch: 1739 | Loss: 0.62643, Accuracy: 65.31% | Test loss: 0.63207, Test acc: 64.29%\n",
            "Epoch: 1759 | Loss: 0.62626, Accuracy: 65.31% | Test loss: 0.63192, Test acc: 64.29%\n",
            "Epoch: 1779 | Loss: 0.62609, Accuracy: 65.31% | Test loss: 0.63177, Test acc: 64.29%\n",
            "Epoch: 1799 | Loss: 0.62593, Accuracy: 65.31% | Test loss: 0.63161, Test acc: 64.29%\n",
            "Epoch: 1819 | Loss: 0.62576, Accuracy: 65.31% | Test loss: 0.63146, Test acc: 64.29%\n",
            "Epoch: 1839 | Loss: 0.62560, Accuracy: 65.31% | Test loss: 0.63130, Test acc: 64.29%\n",
            "Epoch: 1859 | Loss: 0.62543, Accuracy: 65.31% | Test loss: 0.63115, Test acc: 64.29%\n",
            "Epoch: 1879 | Loss: 0.62526, Accuracy: 65.31% | Test loss: 0.63100, Test acc: 64.29%\n",
            "Epoch: 1899 | Loss: 0.62510, Accuracy: 65.31% | Test loss: 0.63084, Test acc: 64.29%\n",
            "Epoch: 1919 | Loss: 0.62493, Accuracy: 65.31% | Test loss: 0.63069, Test acc: 64.29%\n",
            "Epoch: 1939 | Loss: 0.62477, Accuracy: 65.31% | Test loss: 0.63054, Test acc: 64.29%\n",
            "Epoch: 1959 | Loss: 0.62460, Accuracy: 65.31% | Test loss: 0.63038, Test acc: 64.29%\n",
            "Epoch: 1979 | Loss: 0.62444, Accuracy: 65.31% | Test loss: 0.63023, Test acc: 64.29%\n",
            "Epoch: 1999 | Loss: 0.62427, Accuracy: 65.31% | Test loss: 0.63008, Test acc: 64.29%\n",
            "Epoch: 2019 | Loss: 0.62411, Accuracy: 65.31% | Test loss: 0.62992, Test acc: 64.29%\n",
            "Epoch: 2039 | Loss: 0.62394, Accuracy: 65.31% | Test loss: 0.62977, Test acc: 64.29%\n",
            "Epoch: 2059 | Loss: 0.62378, Accuracy: 65.31% | Test loss: 0.62962, Test acc: 64.29%\n",
            "Epoch: 2079 | Loss: 0.62362, Accuracy: 65.31% | Test loss: 0.62947, Test acc: 64.29%\n",
            "Epoch: 2099 | Loss: 0.62345, Accuracy: 65.31% | Test loss: 0.62931, Test acc: 64.29%\n",
            "Epoch: 2119 | Loss: 0.62329, Accuracy: 65.31% | Test loss: 0.62916, Test acc: 64.29%\n",
            "Epoch: 2139 | Loss: 0.62312, Accuracy: 65.31% | Test loss: 0.62901, Test acc: 64.29%\n",
            "Epoch: 2159 | Loss: 0.62296, Accuracy: 65.31% | Test loss: 0.62886, Test acc: 64.29%\n",
            "Epoch: 2179 | Loss: 0.62280, Accuracy: 65.31% | Test loss: 0.62870, Test acc: 64.29%\n",
            "Epoch: 2199 | Loss: 0.62263, Accuracy: 65.31% | Test loss: 0.62855, Test acc: 64.29%\n",
            "Epoch: 2219 | Loss: 0.62247, Accuracy: 65.31% | Test loss: 0.62840, Test acc: 64.29%\n",
            "Epoch: 2239 | Loss: 0.62231, Accuracy: 65.31% | Test loss: 0.62825, Test acc: 64.29%\n",
            "Epoch: 2259 | Loss: 0.62215, Accuracy: 65.31% | Test loss: 0.62810, Test acc: 64.29%\n",
            "Epoch: 2279 | Loss: 0.62198, Accuracy: 65.31% | Test loss: 0.62794, Test acc: 64.29%\n",
            "Epoch: 2299 | Loss: 0.62182, Accuracy: 65.31% | Test loss: 0.62779, Test acc: 64.29%\n",
            "Epoch: 2319 | Loss: 0.62166, Accuracy: 65.31% | Test loss: 0.62764, Test acc: 64.29%\n",
            "Epoch: 2339 | Loss: 0.62150, Accuracy: 65.31% | Test loss: 0.62749, Test acc: 64.29%\n",
            "Epoch: 2359 | Loss: 0.62134, Accuracy: 65.31% | Test loss: 0.62734, Test acc: 64.29%\n",
            "Epoch: 2379 | Loss: 0.62117, Accuracy: 65.31% | Test loss: 0.62719, Test acc: 64.29%\n",
            "Epoch: 2399 | Loss: 0.62101, Accuracy: 65.31% | Test loss: 0.62704, Test acc: 64.29%\n",
            "Epoch: 2419 | Loss: 0.62085, Accuracy: 65.31% | Test loss: 0.62689, Test acc: 64.29%\n",
            "Epoch: 2439 | Loss: 0.62069, Accuracy: 65.31% | Test loss: 0.62674, Test acc: 64.29%\n",
            "Epoch: 2459 | Loss: 0.62053, Accuracy: 65.31% | Test loss: 0.62659, Test acc: 64.29%\n",
            "Epoch: 2479 | Loss: 0.62037, Accuracy: 65.31% | Test loss: 0.62644, Test acc: 64.29%\n",
            "Epoch: 2499 | Loss: 0.62021, Accuracy: 65.31% | Test loss: 0.62629, Test acc: 64.29%\n",
            "Epoch: 2519 | Loss: 0.62005, Accuracy: 65.31% | Test loss: 0.62614, Test acc: 64.29%\n",
            "Epoch: 2539 | Loss: 0.61989, Accuracy: 65.31% | Test loss: 0.62599, Test acc: 64.29%\n",
            "Epoch: 2559 | Loss: 0.61972, Accuracy: 65.31% | Test loss: 0.62584, Test acc: 64.29%\n",
            "Epoch: 2579 | Loss: 0.61956, Accuracy: 65.31% | Test loss: 0.62569, Test acc: 64.29%\n",
            "Epoch: 2599 | Loss: 0.61940, Accuracy: 65.31% | Test loss: 0.62554, Test acc: 64.29%\n",
            "Epoch: 2619 | Loss: 0.61924, Accuracy: 65.31% | Test loss: 0.62539, Test acc: 64.29%\n",
            "Epoch: 2639 | Loss: 0.61908, Accuracy: 65.31% | Test loss: 0.62524, Test acc: 64.29%\n",
            "Epoch: 2659 | Loss: 0.61892, Accuracy: 65.31% | Test loss: 0.62509, Test acc: 64.29%\n",
            "Epoch: 2679 | Loss: 0.61877, Accuracy: 65.31% | Test loss: 0.62494, Test acc: 64.29%\n",
            "Epoch: 2699 | Loss: 0.61861, Accuracy: 65.31% | Test loss: 0.62479, Test acc: 64.29%\n",
            "Epoch: 2719 | Loss: 0.61845, Accuracy: 65.31% | Test loss: 0.62464, Test acc: 64.29%\n",
            "Epoch: 2739 | Loss: 0.61829, Accuracy: 65.31% | Test loss: 0.62449, Test acc: 64.29%\n",
            "Epoch: 2759 | Loss: 0.61813, Accuracy: 65.31% | Test loss: 0.62435, Test acc: 64.29%\n",
            "Epoch: 2779 | Loss: 0.61797, Accuracy: 65.31% | Test loss: 0.62420, Test acc: 64.29%\n",
            "Epoch: 2799 | Loss: 0.61781, Accuracy: 65.31% | Test loss: 0.62405, Test acc: 64.29%\n",
            "Epoch: 2819 | Loss: 0.61765, Accuracy: 65.31% | Test loss: 0.62390, Test acc: 64.29%\n",
            "Epoch: 2839 | Loss: 0.61749, Accuracy: 65.31% | Test loss: 0.62375, Test acc: 64.29%\n",
            "Epoch: 2859 | Loss: 0.61734, Accuracy: 65.31% | Test loss: 0.62361, Test acc: 64.29%\n",
            "Epoch: 2879 | Loss: 0.61718, Accuracy: 65.31% | Test loss: 0.62346, Test acc: 64.29%\n",
            "Epoch: 2899 | Loss: 0.61702, Accuracy: 65.31% | Test loss: 0.62331, Test acc: 64.29%\n",
            "Epoch: 2919 | Loss: 0.61686, Accuracy: 65.31% | Test loss: 0.62316, Test acc: 64.29%\n",
            "Epoch: 2939 | Loss: 0.61670, Accuracy: 65.31% | Test loss: 0.62302, Test acc: 64.29%\n",
            "Epoch: 2959 | Loss: 0.61655, Accuracy: 65.31% | Test loss: 0.62287, Test acc: 64.29%\n",
            "Epoch: 2979 | Loss: 0.61639, Accuracy: 65.31% | Test loss: 0.62272, Test acc: 64.29%\n",
            "Epoch: 2999 | Loss: 0.61623, Accuracy: 65.31% | Test loss: 0.62258, Test acc: 64.29%\n"
          ]
        }
      ]
    },
    {
      "cell_type": "markdown",
      "source": [
        "By training our `SimpleNN_1` model, we observe a clear situation of **underfitting**. The model shows poor performance both on training and test set. We can follow some hint to improve a neural network in an underfitting situation:\n",
        "\n",
        "\n",
        "\n",
        "1.   **Add more layers**: each layer potentially increases the learning capabilities of the model with each layer being able to learn some kind of new pattern in the data, more layers is often referred to as making your neural network deeper.\n",
        "2.   **Add more hidden units**: similar to the above, more hidden units per layer means a potential increase in learning capabilities of the model, more hidden units is often referred to as making your neural network wider.\n",
        "3. **Fitting for longer (more epochs)**: your model might learn more if it had more opportunities to look at the data.\n",
        "4. **Changing the activation functions**: some data just can't be fit with only straight lines, using non-linear activation functions can help with this. In the future, you will know other activation functions. However, sometimes, data are linearly separable. Then, you should remove activation functions.\n",
        "5. **Change the learning rate**: the learning rate of the optimizer decides how much a model should change its parameters each step, too much and the model overcorrects, too little and it doesn't learn enough.\n",
        "6. **Change the loss function**: different problems require different loss functions. For example, a binary cross entropy loss function won't work with a multi-class classification problem.\n",
        "\n",
        "\n",
        "In our scenario, in the `SimpleNN_2` model we remove the activation functions (between hidden layers). By training it, you would obtain better performance. This means that the data in the `diabetes.csv` are simply linearly separable. Indeed, when you used a simple logistic regression model, you obtained acceptable performance.\n",
        "\n",
        "\n",
        "\n"
      ],
      "metadata": {
        "id": "T3oknZZNa9XN"
      }
    },
    {
      "cell_type": "markdown",
      "source": [
        "# **Neural Network for Binary Classification: circles**"
      ],
      "metadata": {
        "id": "snFuDQossyUq"
      }
    },
    {
      "cell_type": "markdown",
      "source": [
        "Now, we see the application of a simple neural network in Pytorch for a binary classification task where the data are non-linearly separable. Then, we generate syntethic data having a shape of a circle."
      ],
      "metadata": {
        "id": "xpW5pUU7tj_f"
      }
    },
    {
      "cell_type": "code",
      "source": [
        "from sklearn.datasets import make_circles\n",
        "import pandas as pd\n",
        "import matplotlib.pyplot as plt\n",
        "import torch\n",
        "from torch import nn\n",
        "from torch import optim\n",
        "from sklearn.model_selection import train_test_split"
      ],
      "metadata": {
        "id": "D66QcEi7tGZ2"
      },
      "execution_count": null,
      "outputs": []
    },
    {
      "cell_type": "markdown",
      "source": [
        "We create syntethic data."
      ],
      "metadata": {
        "id": "oey1MHkkuYcA"
      }
    },
    {
      "cell_type": "code",
      "source": [
        "n_samples = 1000\n",
        "\n",
        "# Create circles\n",
        "X, y = make_circles(n_samples,\n",
        "                    noise=0.03, # a little bit of noise to the dots\n",
        "                    random_state=42) # keep random state so we get the same values\n",
        "\n",
        "print(X)\n",
        "print(y)\n",
        "\n",
        "circles = pd.DataFrame({\"X1\": X[:, 0],\n",
        "    \"X2\": X[:, 1],\n",
        "    \"label\": y\n",
        "})\n",
        "circles.head(10)"
      ],
      "metadata": {
        "colab": {
          "base_uri": "https://localhost:8080/",
          "height": 1000
        },
        "id": "W1GxEhbSuakp",
        "outputId": "f63324ca-4b7a-45c6-a263-6121252e6d5a"
      },
      "execution_count": null,
      "outputs": [
        {
          "output_type": "stream",
          "name": "stdout",
          "text": [
            "[[ 0.75424625  0.23148074]\n",
            " [-0.75615888  0.15325888]\n",
            " [-0.81539193  0.17328203]\n",
            " ...\n",
            " [-0.13690036 -0.81001183]\n",
            " [ 0.67036156 -0.76750154]\n",
            " [ 0.28105665  0.96382443]]\n",
            "[1 1 1 1 0 1 1 1 1 0 1 0 1 1 1 1 0 1 1 0 1 0 0 1 0 0 0 1 1 1 0 0 1 0 0 0 1\n",
            " 1 1 0 0 0 0 1 0 0 1 1 0 1 1 1 0 1 0 0 1 0 0 1 0 0 1 0 1 1 1 1 0 1 0 0 1 1\n",
            " 0 0 1 0 1 0 1 0 0 0 0 1 1 1 1 0 0 0 1 0 1 0 1 0 0 1 1 0 1 0 1 1 1 1 0 1 1\n",
            " 1 1 1 0 0 0 1 1 0 1 0 1 0 0 1 1 0 1 1 1 1 0 1 1 0 0 0 0 0 0 0 1 0 1 1 1 0\n",
            " 1 0 1 0 1 0 1 0 0 1 0 1 1 1 1 1 1 1 0 1 0 0 0 0 0 1 0 0 0 0 1 1 0 1 0 1 1\n",
            " 0 0 0 1 1 1 1 1 0 0 0 0 0 1 0 0 1 1 1 1 1 0 1 0 1 0 0 1 1 1 0 1 0 1 1 0 1\n",
            " 1 0 1 0 1 0 1 1 0 1 0 1 0 0 0 1 0 0 0 0 1 1 0 0 0 0 0 0 0 1 1 1 0 0 1 1 1\n",
            " 0 1 0 0 0 0 1 1 0 1 0 0 0 1 0 1 0 0 1 0 1 1 1 0 0 0 1 0 0 0 1 1 1 1 0 0 0\n",
            " 1 0 0 0 1 0 0 0 1 1 0 1 1 1 1 1 1 1 0 0 0 0 1 0 0 0 0 1 1 1 0 0 1 0 1 0 1\n",
            " 1 0 0 1 1 1 1 0 0 0 0 0 0 1 1 0 1 0 0 1 0 0 0 0 0 0 0 0 1 0 0 0 0 1 0 0 1\n",
            " 0 1 0 0 0 1 0 0 1 1 0 0 1 0 0 1 1 0 1 1 0 0 1 0 1 0 0 0 1 1 0 0 1 1 1 1 1\n",
            " 0 0 1 1 1 1 0 1 1 1 1 1 0 0 1 0 1 0 0 0 0 1 0 0 0 0 0 0 0 0 0 1 1 0 1 1 1\n",
            " 1 1 1 0 1 1 1 1 0 0 0 1 1 1 0 0 0 0 1 1 0 0 0 0 1 0 0 0 1 0 0 1 1 1 1 1 1\n",
            " 0 0 0 1 0 0 0 0 0 1 1 1 0 0 0 0 0 1 1 1 0 0 1 1 1 1 0 1 1 0 1 0 0 0 1 0 0\n",
            " 1 0 0 1 1 0 0 1 1 0 1 0 1 0 1 0 1 0 0 0 1 0 0 0 0 0 0 1 1 1 1 0 0 0 1 0 1\n",
            " 1 0 0 0 0 0 1 1 1 0 0 1 0 0 1 0 0 1 0 0 1 0 0 0 1 0 0 1 1 1 0 1 1 0 0 0 1\n",
            " 1 1 1 0 0 1 1 1 0 0 0 0 1 1 0 0 1 1 0 0 1 1 1 1 1 1 1 0 1 0 1 0 0 1 0 1 1\n",
            " 1 1 0 0 1 1 0 0 1 0 1 0 0 0 1 0 0 1 1 1 1 0 1 1 1 1 1 1 1 0 1 0 1 1 1 0 0\n",
            " 1 0 0 0 1 1 1 1 0 0 0 0 1 0 1 1 1 0 1 0 0 1 0 0 1 1 1 1 1 0 1 0 0 0 1 1 1\n",
            " 1 1 0 0 0 1 1 1 1 0 0 0 0 0 1 1 0 1 0 1 0 0 0 0 0 0 0 0 0 1 1 1 1 1 0 1 0\n",
            " 1 1 1 1 0 1 1 1 1 1 1 1 1 0 1 1 0 1 0 0 0 1 0 1 1 1 0 1 1 0 1 1 0 1 0 1 1\n",
            " 0 0 1 1 1 0 0 0 0 1 1 0 0 1 1 1 1 1 1 1 1 1 1 1 1 1 1 0 0 1 0 1 0 1 0 1 1\n",
            " 1 1 1 1 0 1 0 1 1 1 0 1 1 0 0 1 0 1 1 0 0 1 1 1 1 1 1 1 1 0 1 1 1 0 1 0 0\n",
            " 1 1 0 0 0 1 0 0 1 0 0 0 1 0 1 0 0 0 0 1 0 1 1 1 1 0 1 0 0 0 0 0 0 1 0 1 0\n",
            " 1 0 1 1 1 0 1 0 1 0 0 1 1 1 0 0 0 1 1 0 1 0 1 1 0 1 0 0 1 1 1 0 0 0 1 1 0\n",
            " 0 0 0 0 1 1 0 1 0 0 0 1 0 0 0 1 1 1 1 0 1 1 1 0 1 1 1 1 0 1 1 0 1 1 0 0 1\n",
            " 1 1 0 0 0 0 0 0 1 0 0 1 0 0 0 1 0 1 0 1 1 0 0 0 0 0 0 0 0 1 0 1 0 0 0 1 0\n",
            " 0]\n"
          ]
        },
        {
          "output_type": "execute_result",
          "data": {
            "text/plain": [
              "         X1        X2  label\n",
              "0  0.754246  0.231481      1\n",
              "1 -0.756159  0.153259      1\n",
              "2 -0.815392  0.173282      1\n",
              "3 -0.393731  0.692883      1\n",
              "4  0.442208 -0.896723      0\n",
              "5 -0.479646  0.676435      1\n",
              "6 -0.013648  0.803349      1\n",
              "7  0.771513  0.147760      1\n",
              "8 -0.169322 -0.793456      1\n",
              "9 -0.121486  1.021509      0"
            ],
            "text/html": [
              "\n",
              "  <div id=\"df-e475d725-0e31-486b-b18d-be20264d6864\" class=\"colab-df-container\">\n",
              "    <div>\n",
              "<style scoped>\n",
              "    .dataframe tbody tr th:only-of-type {\n",
              "        vertical-align: middle;\n",
              "    }\n",
              "\n",
              "    .dataframe tbody tr th {\n",
              "        vertical-align: top;\n",
              "    }\n",
              "\n",
              "    .dataframe thead th {\n",
              "        text-align: right;\n",
              "    }\n",
              "</style>\n",
              "<table border=\"1\" class=\"dataframe\">\n",
              "  <thead>\n",
              "    <tr style=\"text-align: right;\">\n",
              "      <th></th>\n",
              "      <th>X1</th>\n",
              "      <th>X2</th>\n",
              "      <th>label</th>\n",
              "    </tr>\n",
              "  </thead>\n",
              "  <tbody>\n",
              "    <tr>\n",
              "      <th>0</th>\n",
              "      <td>0.754246</td>\n",
              "      <td>0.231481</td>\n",
              "      <td>1</td>\n",
              "    </tr>\n",
              "    <tr>\n",
              "      <th>1</th>\n",
              "      <td>-0.756159</td>\n",
              "      <td>0.153259</td>\n",
              "      <td>1</td>\n",
              "    </tr>\n",
              "    <tr>\n",
              "      <th>2</th>\n",
              "      <td>-0.815392</td>\n",
              "      <td>0.173282</td>\n",
              "      <td>1</td>\n",
              "    </tr>\n",
              "    <tr>\n",
              "      <th>3</th>\n",
              "      <td>-0.393731</td>\n",
              "      <td>0.692883</td>\n",
              "      <td>1</td>\n",
              "    </tr>\n",
              "    <tr>\n",
              "      <th>4</th>\n",
              "      <td>0.442208</td>\n",
              "      <td>-0.896723</td>\n",
              "      <td>0</td>\n",
              "    </tr>\n",
              "    <tr>\n",
              "      <th>5</th>\n",
              "      <td>-0.479646</td>\n",
              "      <td>0.676435</td>\n",
              "      <td>1</td>\n",
              "    </tr>\n",
              "    <tr>\n",
              "      <th>6</th>\n",
              "      <td>-0.013648</td>\n",
              "      <td>0.803349</td>\n",
              "      <td>1</td>\n",
              "    </tr>\n",
              "    <tr>\n",
              "      <th>7</th>\n",
              "      <td>0.771513</td>\n",
              "      <td>0.147760</td>\n",
              "      <td>1</td>\n",
              "    </tr>\n",
              "    <tr>\n",
              "      <th>8</th>\n",
              "      <td>-0.169322</td>\n",
              "      <td>-0.793456</td>\n",
              "      <td>1</td>\n",
              "    </tr>\n",
              "    <tr>\n",
              "      <th>9</th>\n",
              "      <td>-0.121486</td>\n",
              "      <td>1.021509</td>\n",
              "      <td>0</td>\n",
              "    </tr>\n",
              "  </tbody>\n",
              "</table>\n",
              "</div>\n",
              "    <div class=\"colab-df-buttons\">\n",
              "\n",
              "  <div class=\"colab-df-container\">\n",
              "    <button class=\"colab-df-convert\" onclick=\"convertToInteractive('df-e475d725-0e31-486b-b18d-be20264d6864')\"\n",
              "            title=\"Convert this dataframe to an interactive table.\"\n",
              "            style=\"display:none;\">\n",
              "\n",
              "  <svg xmlns=\"http://www.w3.org/2000/svg\" height=\"24px\" viewBox=\"0 -960 960 960\">\n",
              "    <path d=\"M120-120v-720h720v720H120Zm60-500h600v-160H180v160Zm220 220h160v-160H400v160Zm0 220h160v-160H400v160ZM180-400h160v-160H180v160Zm440 0h160v-160H620v160ZM180-180h160v-160H180v160Zm440 0h160v-160H620v160Z\"/>\n",
              "  </svg>\n",
              "    </button>\n",
              "\n",
              "  <style>\n",
              "    .colab-df-container {\n",
              "      display:flex;\n",
              "      gap: 12px;\n",
              "    }\n",
              "\n",
              "    .colab-df-convert {\n",
              "      background-color: #E8F0FE;\n",
              "      border: none;\n",
              "      border-radius: 50%;\n",
              "      cursor: pointer;\n",
              "      display: none;\n",
              "      fill: #1967D2;\n",
              "      height: 32px;\n",
              "      padding: 0 0 0 0;\n",
              "      width: 32px;\n",
              "    }\n",
              "\n",
              "    .colab-df-convert:hover {\n",
              "      background-color: #E2EBFA;\n",
              "      box-shadow: 0px 1px 2px rgba(60, 64, 67, 0.3), 0px 1px 3px 1px rgba(60, 64, 67, 0.15);\n",
              "      fill: #174EA6;\n",
              "    }\n",
              "\n",
              "    .colab-df-buttons div {\n",
              "      margin-bottom: 4px;\n",
              "    }\n",
              "\n",
              "    [theme=dark] .colab-df-convert {\n",
              "      background-color: #3B4455;\n",
              "      fill: #D2E3FC;\n",
              "    }\n",
              "\n",
              "    [theme=dark] .colab-df-convert:hover {\n",
              "      background-color: #434B5C;\n",
              "      box-shadow: 0px 1px 3px 1px rgba(0, 0, 0, 0.15);\n",
              "      filter: drop-shadow(0px 1px 2px rgba(0, 0, 0, 0.3));\n",
              "      fill: #FFFFFF;\n",
              "    }\n",
              "  </style>\n",
              "\n",
              "    <script>\n",
              "      const buttonEl =\n",
              "        document.querySelector('#df-e475d725-0e31-486b-b18d-be20264d6864 button.colab-df-convert');\n",
              "      buttonEl.style.display =\n",
              "        google.colab.kernel.accessAllowed ? 'block' : 'none';\n",
              "\n",
              "      async function convertToInteractive(key) {\n",
              "        const element = document.querySelector('#df-e475d725-0e31-486b-b18d-be20264d6864');\n",
              "        const dataTable =\n",
              "          await google.colab.kernel.invokeFunction('convertToInteractive',\n",
              "                                                    [key], {});\n",
              "        if (!dataTable) return;\n",
              "\n",
              "        const docLinkHtml = 'Like what you see? Visit the ' +\n",
              "          '<a target=\"_blank\" href=https://colab.research.google.com/notebooks/data_table.ipynb>data table notebook</a>'\n",
              "          + ' to learn more about interactive tables.';\n",
              "        element.innerHTML = '';\n",
              "        dataTable['output_type'] = 'display_data';\n",
              "        await google.colab.output.renderOutput(dataTable, element);\n",
              "        const docLink = document.createElement('div');\n",
              "        docLink.innerHTML = docLinkHtml;\n",
              "        element.appendChild(docLink);\n",
              "      }\n",
              "    </script>\n",
              "  </div>\n",
              "\n",
              "\n",
              "<div id=\"df-41c46ee3-6eb9-4387-9533-b80b867e99bf\">\n",
              "  <button class=\"colab-df-quickchart\" onclick=\"quickchart('df-41c46ee3-6eb9-4387-9533-b80b867e99bf')\"\n",
              "            title=\"Suggest charts\"\n",
              "            style=\"display:none;\">\n",
              "\n",
              "<svg xmlns=\"http://www.w3.org/2000/svg\" height=\"24px\"viewBox=\"0 0 24 24\"\n",
              "     width=\"24px\">\n",
              "    <g>\n",
              "        <path d=\"M19 3H5c-1.1 0-2 .9-2 2v14c0 1.1.9 2 2 2h14c1.1 0 2-.9 2-2V5c0-1.1-.9-2-2-2zM9 17H7v-7h2v7zm4 0h-2V7h2v10zm4 0h-2v-4h2v4z\"/>\n",
              "    </g>\n",
              "</svg>\n",
              "  </button>\n",
              "\n",
              "<style>\n",
              "  .colab-df-quickchart {\n",
              "      --bg-color: #E8F0FE;\n",
              "      --fill-color: #1967D2;\n",
              "      --hover-bg-color: #E2EBFA;\n",
              "      --hover-fill-color: #174EA6;\n",
              "      --disabled-fill-color: #AAA;\n",
              "      --disabled-bg-color: #DDD;\n",
              "  }\n",
              "\n",
              "  [theme=dark] .colab-df-quickchart {\n",
              "      --bg-color: #3B4455;\n",
              "      --fill-color: #D2E3FC;\n",
              "      --hover-bg-color: #434B5C;\n",
              "      --hover-fill-color: #FFFFFF;\n",
              "      --disabled-bg-color: #3B4455;\n",
              "      --disabled-fill-color: #666;\n",
              "  }\n",
              "\n",
              "  .colab-df-quickchart {\n",
              "    background-color: var(--bg-color);\n",
              "    border: none;\n",
              "    border-radius: 50%;\n",
              "    cursor: pointer;\n",
              "    display: none;\n",
              "    fill: var(--fill-color);\n",
              "    height: 32px;\n",
              "    padding: 0;\n",
              "    width: 32px;\n",
              "  }\n",
              "\n",
              "  .colab-df-quickchart:hover {\n",
              "    background-color: var(--hover-bg-color);\n",
              "    box-shadow: 0 1px 2px rgba(60, 64, 67, 0.3), 0 1px 3px 1px rgba(60, 64, 67, 0.15);\n",
              "    fill: var(--button-hover-fill-color);\n",
              "  }\n",
              "\n",
              "  .colab-df-quickchart-complete:disabled,\n",
              "  .colab-df-quickchart-complete:disabled:hover {\n",
              "    background-color: var(--disabled-bg-color);\n",
              "    fill: var(--disabled-fill-color);\n",
              "    box-shadow: none;\n",
              "  }\n",
              "\n",
              "  .colab-df-spinner {\n",
              "    border: 2px solid var(--fill-color);\n",
              "    border-color: transparent;\n",
              "    border-bottom-color: var(--fill-color);\n",
              "    animation:\n",
              "      spin 1s steps(1) infinite;\n",
              "  }\n",
              "\n",
              "  @keyframes spin {\n",
              "    0% {\n",
              "      border-color: transparent;\n",
              "      border-bottom-color: var(--fill-color);\n",
              "      border-left-color: var(--fill-color);\n",
              "    }\n",
              "    20% {\n",
              "      border-color: transparent;\n",
              "      border-left-color: var(--fill-color);\n",
              "      border-top-color: var(--fill-color);\n",
              "    }\n",
              "    30% {\n",
              "      border-color: transparent;\n",
              "      border-left-color: var(--fill-color);\n",
              "      border-top-color: var(--fill-color);\n",
              "      border-right-color: var(--fill-color);\n",
              "    }\n",
              "    40% {\n",
              "      border-color: transparent;\n",
              "      border-right-color: var(--fill-color);\n",
              "      border-top-color: var(--fill-color);\n",
              "    }\n",
              "    60% {\n",
              "      border-color: transparent;\n",
              "      border-right-color: var(--fill-color);\n",
              "    }\n",
              "    80% {\n",
              "      border-color: transparent;\n",
              "      border-right-color: var(--fill-color);\n",
              "      border-bottom-color: var(--fill-color);\n",
              "    }\n",
              "    90% {\n",
              "      border-color: transparent;\n",
              "      border-bottom-color: var(--fill-color);\n",
              "    }\n",
              "  }\n",
              "</style>\n",
              "\n",
              "  <script>\n",
              "    async function quickchart(key) {\n",
              "      const quickchartButtonEl =\n",
              "        document.querySelector('#' + key + ' button');\n",
              "      quickchartButtonEl.disabled = true;  // To prevent multiple clicks.\n",
              "      quickchartButtonEl.classList.add('colab-df-spinner');\n",
              "      try {\n",
              "        const charts = await google.colab.kernel.invokeFunction(\n",
              "            'suggestCharts', [key], {});\n",
              "      } catch (error) {\n",
              "        console.error('Error during call to suggestCharts:', error);\n",
              "      }\n",
              "      quickchartButtonEl.classList.remove('colab-df-spinner');\n",
              "      quickchartButtonEl.classList.add('colab-df-quickchart-complete');\n",
              "    }\n",
              "    (() => {\n",
              "      let quickchartButtonEl =\n",
              "        document.querySelector('#df-41c46ee3-6eb9-4387-9533-b80b867e99bf button');\n",
              "      quickchartButtonEl.style.display =\n",
              "        google.colab.kernel.accessAllowed ? 'block' : 'none';\n",
              "    })();\n",
              "  </script>\n",
              "</div>\n",
              "    </div>\n",
              "  </div>\n"
            ]
          },
          "metadata": {},
          "execution_count": 236
        }
      ]
    },
    {
      "cell_type": "markdown",
      "source": [
        "Let's plot the data and we observe that the data we generated have a circle-like shape. This dataset is often what's considered a toy problem (a problem that's used to try and test things out on) in machine learning."
      ],
      "metadata": {
        "id": "UiUz-NjBui65"
      }
    },
    {
      "cell_type": "code",
      "source": [
        "plt.scatter(x=X[:, 0],\n",
        "            y=X[:, 1],\n",
        "            c=y,\n",
        "            cmap=plt.cm.RdYlBu);"
      ],
      "metadata": {
        "colab": {
          "base_uri": "https://localhost:8080/",
          "height": 430
        },
        "id": "r-stuldyulS1",
        "outputId": "692ed409-c22d-47ad-eb5a-f0247c807311"
      },
      "execution_count": null,
      "outputs": [
        {
          "output_type": "display_data",
          "data": {
            "text/plain": [
              "<Figure size 640x480 with 1 Axes>"
            ],
            "image/png": "[encoded data removed]"
          },
          "metadata": {}
        }
      ]
    },
    {
      "cell_type": "markdown",
      "source": [
        "Turn data into tensors and split them into training and test sets."
      ],
      "metadata": {
        "id": "C2iIJrA6yB3w"
      }
    },
    {
      "cell_type": "code",
      "source": [
        "X_train, X_test, y_train, y_test = train_test_split(X,\n",
        "                                                    y,\n",
        "                                                    test_size=0.2, # 20% test, 80% train\n",
        "                                                    random_state=42) # make the random split reproducible"
      ],
      "metadata": {
        "id": "3XXyIxFdyJ_h"
      },
      "execution_count": null,
      "outputs": []
    },
    {
      "cell_type": "markdown",
      "source": [
        "Set up device agnostic code."
      ],
      "metadata": {
        "id": "XOVi58eN5QfF"
      }
    },
    {
      "cell_type": "code",
      "source": [
        "device = \"cuda\" if torch.cuda.is_available() else \"cpu\""
      ],
      "metadata": {
        "id": "yHAI0wgU7EMo"
      },
      "execution_count": null,
      "outputs": []
    },
    {
      "cell_type": "markdown",
      "source": [
        "Let's build our model."
      ],
      "metadata": {
        "id": "UYQLga4T91v3"
      }
    },
    {
      "cell_type": "code",
      "source": [
        "class CircleModel(nn.Module):\n",
        "    def __init__(self, input_size, hidden_size, output_size):\n",
        "        super().__init__()\n",
        "        self.layer_1 = nn.Linear(input_size, hidden_size)\n",
        "        self.layer_2 = nn.Linear(hidden_size, hidden_size)\n",
        "        self.layer_3 = nn.Linear(hidden_size, output_size)\n",
        "        self.activation = nn.ReLU() # ReLU is an activation function that you will study in the Deep Learning course.\n",
        "        self.sigmoid = nn.Sigmoid()\n",
        "\n",
        "    def forward(self, x):\n",
        "        x = self.layer_1(x)\n",
        "        x = self.activation(x)\n",
        "        x = self.layer_2(x)\n",
        "        x = self.activation(x)\n",
        "        x = self.layer_3(x)\n",
        "        x = self.sigmoid(x)\n",
        "        return x"
      ],
      "metadata": {
        "id": "nQ8k-WXD7qLN"
      },
      "execution_count": null,
      "outputs": []
    },
    {
      "cell_type": "markdown",
      "source": [
        "We follow the same steps as before."
      ],
      "metadata": {
        "id": "XDQ-kTZ0knSK"
      }
    },
    {
      "cell_type": "code",
      "source": [
        "torch.manual_seed(42)\n",
        "input_size = X.shape[1]\n",
        "hidden_size = 50\n",
        "output_size = 1\n",
        "model = CircleModel(input_size, hidden_size, output_size).to(device)\n",
        "criterion = nn.BCELoss()  # Binary Cross Entropy Loss for binary classification\n",
        "optimizer = optim.SGD(model.parameters(), lr=0.01)  # SGD optimizer\n",
        "# we do not normalize data because they are toy data already normalized\n",
        "X_train = torch.from_numpy(X_train).float().to(device)\n",
        "X_test = torch.from_numpy(X_test).float().to(device)\n",
        "y_train = torch.from_numpy(y_train).float().to(device)\n",
        "y_test = torch.from_numpy(y_test).float().to(device)"
      ],
      "metadata": {
        "id": "6WGDCVZt9bFg"
      },
      "execution_count": null,
      "outputs": []
    },
    {
      "cell_type": "code",
      "source": [
        "epochs = 3000\n",
        "for epoch in range(epochs):\n",
        "  model.train() # we just inform the model that we are training it.\n",
        "  outputs = model(X_train) # we obtain the predictions on training set\n",
        "  outputs = outputs.squeeze() # we adapt prediction size\n",
        "  # print(outputs)\n",
        "  loss = criterion(outputs, y_train) # compute loss function\n",
        "  outputs = torch.round(outputs).float() # transform predictions in labels\n",
        "  acc = accuracy_fn(y_true=y_train,\n",
        "                          y_pred=outputs)\n",
        "  # compute loss gradients with respect to model's parameters\n",
        "  loss.backward()\n",
        "  # update the model parameters based on the computed gradients.\n",
        "  optimizer.step()\n",
        "  # In PyTorch, for example, when you perform backpropagation to compute\n",
        "  # the gradients of the loss with respect to the model parameters, these\n",
        "  # gradients accumulate by default through the epochs. Therefore, before\n",
        "  # computing the gradients for a new batch, it's a common practice to zero\n",
        "  # them using this line to avoid interference from previous iterations.\n",
        "  optimizer.zero_grad()\n",
        "  model.eval() # we just inform the model that we are evaluating it.\n",
        "  with torch.inference_mode(): # we are doing inference: we don't need to compute gradients\n",
        "    # 1. Forward pass\n",
        "    test_outputs = model(X_test)\n",
        "    test_outputs = test_outputs.squeeze()\n",
        "    test_loss = criterion(test_outputs,\n",
        "                        y_test)\n",
        "    test_outputs = torch.round(test_outputs).float()\n",
        "    # print(test_outputs)\n",
        "    test_acc = accuracy_fn(y_true=y_test,\n",
        "                            y_pred=test_outputs)\n",
        "    # 2. Caculate loss/accuracy\n",
        "\n",
        "\n",
        "  if (epoch + 1) % 20 == 0:\n",
        "        print(f\"Epoch: {epoch} | Loss: {loss:.5f}, Accuracy: {acc:.2f}% | Test loss: {test_loss:.5f}, Test acc: {test_acc:.2f}%\")"
      ],
      "metadata": {
        "colab": {
          "base_uri": "https://localhost:8080/"
        },
        "id": "mXiu0ZNE-sob",
        "outputId": "54e8c597-76cd-4b3d-b25d-db0e0b989ecb"
      },
      "execution_count": null,
      "outputs": [
        {
          "output_type": "stream",
          "name": "stdout",
          "text": [
            "Epoch: 19 | Loss: 0.69570, Accuracy: 50.00% | Test loss: 0.69359, Test acc: 50.00%\n",
            "Epoch: 39 | Loss: 0.69457, Accuracy: 50.00% | Test loss: 0.69263, Test acc: 50.00%\n",
            "Epoch: 59 | Loss: 0.69367, Accuracy: 50.00% | Test loss: 0.69186, Test acc: 50.00%\n",
            "Epoch: 79 | Loss: 0.69293, Accuracy: 50.00% | Test loss: 0.69123, Test acc: 50.00%\n",
            "Epoch: 99 | Loss: 0.69231, Accuracy: 50.00% | Test loss: 0.69070, Test acc: 50.00%\n",
            "Epoch: 119 | Loss: 0.69177, Accuracy: 50.00% | Test loss: 0.69025, Test acc: 50.00%\n",
            "Epoch: 139 | Loss: 0.69128, Accuracy: 53.37% | Test loss: 0.68983, Test acc: 55.00%\n",
            "Epoch: 159 | Loss: 0.69084, Accuracy: 59.38% | Test loss: 0.68946, Test acc: 61.50%\n",
            "Epoch: 179 | Loss: 0.69044, Accuracy: 60.88% | Test loss: 0.68912, Test acc: 63.00%\n",
            "Epoch: 199 | Loss: 0.69008, Accuracy: 58.88% | Test loss: 0.68882, Test acc: 58.00%\n",
            "Epoch: 219 | Loss: 0.68975, Accuracy: 55.62% | Test loss: 0.68854, Test acc: 55.50%\n",
            "Epoch: 239 | Loss: 0.68946, Accuracy: 55.62% | Test loss: 0.68830, Test acc: 54.50%\n",
            "Epoch: 259 | Loss: 0.68919, Accuracy: 58.25% | Test loss: 0.68808, Test acc: 56.50%\n",
            "Epoch: 279 | Loss: 0.68893, Accuracy: 59.13% | Test loss: 0.68786, Test acc: 55.50%\n",
            "Epoch: 299 | Loss: 0.68868, Accuracy: 59.13% | Test loss: 0.68765, Test acc: 57.00%\n",
            "Epoch: 319 | Loss: 0.68844, Accuracy: 60.12% | Test loss: 0.68745, Test acc: 57.00%\n",
            "Epoch: 339 | Loss: 0.68820, Accuracy: 60.88% | Test loss: 0.68724, Test acc: 58.50%\n",
            "Epoch: 359 | Loss: 0.68797, Accuracy: 61.75% | Test loss: 0.68704, Test acc: 61.50%\n",
            "Epoch: 379 | Loss: 0.68774, Accuracy: 61.62% | Test loss: 0.68684, Test acc: 62.00%\n",
            "Epoch: 399 | Loss: 0.68752, Accuracy: 62.75% | Test loss: 0.68664, Test acc: 62.00%\n",
            "Epoch: 419 | Loss: 0.68729, Accuracy: 62.50% | Test loss: 0.68644, Test acc: 62.50%\n",
            "Epoch: 439 | Loss: 0.68706, Accuracy: 62.50% | Test loss: 0.68624, Test acc: 63.50%\n",
            "Epoch: 459 | Loss: 0.68684, Accuracy: 62.88% | Test loss: 0.68605, Test acc: 63.00%\n",
            "Epoch: 479 | Loss: 0.68661, Accuracy: 62.88% | Test loss: 0.68585, Test acc: 63.00%\n",
            "Epoch: 499 | Loss: 0.68635, Accuracy: 63.12% | Test loss: 0.68564, Test acc: 63.00%\n",
            "Epoch: 519 | Loss: 0.68611, Accuracy: 63.12% | Test loss: 0.68544, Test acc: 63.00%\n",
            "Epoch: 539 | Loss: 0.68589, Accuracy: 63.12% | Test loss: 0.68526, Test acc: 64.00%\n",
            "Epoch: 559 | Loss: 0.68568, Accuracy: 62.75% | Test loss: 0.68508, Test acc: 64.50%\n",
            "Epoch: 579 | Loss: 0.68547, Accuracy: 63.00% | Test loss: 0.68489, Test acc: 65.50%\n",
            "Epoch: 599 | Loss: 0.68526, Accuracy: 63.25% | Test loss: 0.68471, Test acc: 65.50%\n",
            "Epoch: 619 | Loss: 0.68505, Accuracy: 63.12% | Test loss: 0.68453, Test acc: 66.00%\n",
            "Epoch: 639 | Loss: 0.68484, Accuracy: 63.25% | Test loss: 0.68434, Test acc: 66.00%\n",
            "Epoch: 659 | Loss: 0.68463, Accuracy: 63.38% | Test loss: 0.68416, Test acc: 66.50%\n",
            "Epoch: 679 | Loss: 0.68441, Accuracy: 63.00% | Test loss: 0.68397, Test acc: 66.50%\n",
            "Epoch: 699 | Loss: 0.68419, Accuracy: 63.00% | Test loss: 0.68378, Test acc: 66.50%\n",
            "Epoch: 719 | Loss: 0.68397, Accuracy: 63.38% | Test loss: 0.68358, Test acc: 66.50%\n",
            "Epoch: 739 | Loss: 0.68375, Accuracy: 63.50% | Test loss: 0.68339, Test acc: 66.50%\n",
            "Epoch: 759 | Loss: 0.68352, Accuracy: 63.88% | Test loss: 0.68319, Test acc: 66.50%\n",
            "Epoch: 779 | Loss: 0.68329, Accuracy: 63.88% | Test loss: 0.68299, Test acc: 66.50%\n",
            "Epoch: 799 | Loss: 0.68306, Accuracy: 63.75% | Test loss: 0.68278, Test acc: 66.50%\n",
            "Epoch: 819 | Loss: 0.68283, Accuracy: 63.88% | Test loss: 0.68258, Test acc: 66.00%\n",
            "Epoch: 839 | Loss: 0.68259, Accuracy: 63.88% | Test loss: 0.68237, Test acc: 66.00%\n",
            "Epoch: 859 | Loss: 0.68235, Accuracy: 63.88% | Test loss: 0.68216, Test acc: 66.50%\n",
            "Epoch: 879 | Loss: 0.68210, Accuracy: 63.88% | Test loss: 0.68194, Test acc: 66.50%\n",
            "Epoch: 899 | Loss: 0.68185, Accuracy: 63.88% | Test loss: 0.68172, Test acc: 66.50%\n",
            "Epoch: 919 | Loss: 0.68160, Accuracy: 64.25% | Test loss: 0.68150, Test acc: 67.00%\n",
            "Epoch: 939 | Loss: 0.68135, Accuracy: 64.62% | Test loss: 0.68128, Test acc: 67.00%\n",
            "Epoch: 959 | Loss: 0.68109, Accuracy: 64.88% | Test loss: 0.68105, Test acc: 67.00%\n",
            "Epoch: 979 | Loss: 0.68082, Accuracy: 65.38% | Test loss: 0.68082, Test acc: 67.00%\n",
            "Epoch: 999 | Loss: 0.68056, Accuracy: 65.62% | Test loss: 0.68059, Test acc: 67.00%\n",
            "Epoch: 1019 | Loss: 0.68029, Accuracy: 65.50% | Test loss: 0.68035, Test acc: 66.50%\n",
            "Epoch: 1039 | Loss: 0.68001, Accuracy: 65.62% | Test loss: 0.68011, Test acc: 66.50%\n",
            "Epoch: 1059 | Loss: 0.67974, Accuracy: 66.12% | Test loss: 0.67987, Test acc: 66.50%\n",
            "Epoch: 1079 | Loss: 0.67946, Accuracy: 66.38% | Test loss: 0.67963, Test acc: 66.50%\n",
            "Epoch: 1099 | Loss: 0.67917, Accuracy: 66.62% | Test loss: 0.67938, Test acc: 66.50%\n",
            "Epoch: 1119 | Loss: 0.67888, Accuracy: 66.75% | Test loss: 0.67913, Test acc: 66.50%\n",
            "Epoch: 1139 | Loss: 0.67858, Accuracy: 67.00% | Test loss: 0.67887, Test acc: 67.50%\n",
            "Epoch: 1159 | Loss: 0.67828, Accuracy: 67.12% | Test loss: 0.67861, Test acc: 67.50%\n",
            "Epoch: 1179 | Loss: 0.67798, Accuracy: 67.25% | Test loss: 0.67834, Test acc: 68.00%\n",
            "Epoch: 1199 | Loss: 0.67767, Accuracy: 67.75% | Test loss: 0.67807, Test acc: 68.00%\n",
            "Epoch: 1219 | Loss: 0.67735, Accuracy: 68.00% | Test loss: 0.67779, Test acc: 68.00%\n",
            "Epoch: 1239 | Loss: 0.67703, Accuracy: 68.50% | Test loss: 0.67750, Test acc: 69.00%\n",
            "Epoch: 1259 | Loss: 0.67670, Accuracy: 68.75% | Test loss: 0.67722, Test acc: 69.00%\n",
            "Epoch: 1279 | Loss: 0.67637, Accuracy: 69.00% | Test loss: 0.67693, Test acc: 69.50%\n",
            "Epoch: 1299 | Loss: 0.67604, Accuracy: 69.75% | Test loss: 0.67663, Test acc: 69.50%\n",
            "Epoch: 1319 | Loss: 0.67570, Accuracy: 69.88% | Test loss: 0.67633, Test acc: 69.50%\n",
            "Epoch: 1339 | Loss: 0.67535, Accuracy: 70.25% | Test loss: 0.67603, Test acc: 70.00%\n",
            "Epoch: 1359 | Loss: 0.67500, Accuracy: 70.75% | Test loss: 0.67572, Test acc: 70.50%\n",
            "Epoch: 1379 | Loss: 0.67464, Accuracy: 71.12% | Test loss: 0.67541, Test acc: 71.00%\n",
            "Epoch: 1399 | Loss: 0.67428, Accuracy: 71.88% | Test loss: 0.67509, Test acc: 71.00%\n",
            "Epoch: 1419 | Loss: 0.67391, Accuracy: 72.50% | Test loss: 0.67476, Test acc: 71.50%\n",
            "Epoch: 1439 | Loss: 0.67353, Accuracy: 73.00% | Test loss: 0.67443, Test acc: 72.50%\n",
            "Epoch: 1459 | Loss: 0.67315, Accuracy: 73.62% | Test loss: 0.67409, Test acc: 74.50%\n",
            "Epoch: 1479 | Loss: 0.67275, Accuracy: 74.75% | Test loss: 0.67374, Test acc: 74.50%\n",
            "Epoch: 1499 | Loss: 0.67235, Accuracy: 75.62% | Test loss: 0.67338, Test acc: 75.50%\n",
            "Epoch: 1519 | Loss: 0.67192, Accuracy: 76.38% | Test loss: 0.67302, Test acc: 77.50%\n",
            "Epoch: 1539 | Loss: 0.67149, Accuracy: 77.25% | Test loss: 0.67263, Test acc: 77.50%\n",
            "Epoch: 1559 | Loss: 0.67103, Accuracy: 78.00% | Test loss: 0.67224, Test acc: 78.00%\n",
            "Epoch: 1579 | Loss: 0.67056, Accuracy: 78.62% | Test loss: 0.67183, Test acc: 79.00%\n",
            "Epoch: 1599 | Loss: 0.67009, Accuracy: 79.25% | Test loss: 0.67142, Test acc: 79.50%\n",
            "Epoch: 1619 | Loss: 0.66961, Accuracy: 79.88% | Test loss: 0.67101, Test acc: 81.00%\n",
            "Epoch: 1639 | Loss: 0.66913, Accuracy: 80.38% | Test loss: 0.67060, Test acc: 81.00%\n",
            "Epoch: 1659 | Loss: 0.66866, Accuracy: 80.38% | Test loss: 0.67020, Test acc: 81.50%\n",
            "Epoch: 1679 | Loss: 0.66819, Accuracy: 80.75% | Test loss: 0.66980, Test acc: 81.50%\n",
            "Epoch: 1699 | Loss: 0.66772, Accuracy: 81.00% | Test loss: 0.66940, Test acc: 82.00%\n",
            "Epoch: 1719 | Loss: 0.66724, Accuracy: 81.12% | Test loss: 0.66899, Test acc: 82.00%\n",
            "Epoch: 1739 | Loss: 0.66676, Accuracy: 81.12% | Test loss: 0.66858, Test acc: 82.50%\n",
            "Epoch: 1759 | Loss: 0.66627, Accuracy: 81.12% | Test loss: 0.66816, Test acc: 83.00%\n",
            "Epoch: 1779 | Loss: 0.66577, Accuracy: 81.50% | Test loss: 0.66774, Test acc: 84.00%\n",
            "Epoch: 1799 | Loss: 0.66527, Accuracy: 81.88% | Test loss: 0.66730, Test acc: 84.00%\n",
            "Epoch: 1819 | Loss: 0.66475, Accuracy: 82.12% | Test loss: 0.66686, Test acc: 84.00%\n",
            "Epoch: 1839 | Loss: 0.66423, Accuracy: 82.25% | Test loss: 0.66642, Test acc: 84.00%\n",
            "Epoch: 1859 | Loss: 0.66370, Accuracy: 82.50% | Test loss: 0.66596, Test acc: 84.00%\n",
            "Epoch: 1879 | Loss: 0.66316, Accuracy: 83.00% | Test loss: 0.66550, Test acc: 84.50%\n",
            "Epoch: 1899 | Loss: 0.66260, Accuracy: 83.25% | Test loss: 0.66502, Test acc: 84.00%\n",
            "Epoch: 1919 | Loss: 0.66204, Accuracy: 83.25% | Test loss: 0.66454, Test acc: 84.00%\n",
            "Epoch: 1939 | Loss: 0.66147, Accuracy: 83.62% | Test loss: 0.66405, Test acc: 84.50%\n",
            "Epoch: 1959 | Loss: 0.66089, Accuracy: 84.00% | Test loss: 0.66354, Test acc: 84.50%\n",
            "Epoch: 1979 | Loss: 0.66029, Accuracy: 84.25% | Test loss: 0.66303, Test acc: 84.50%\n",
            "Epoch: 1999 | Loss: 0.65968, Accuracy: 84.50% | Test loss: 0.66251, Test acc: 85.00%\n",
            "Epoch: 2019 | Loss: 0.65905, Accuracy: 85.12% | Test loss: 0.66197, Test acc: 85.00%\n",
            "Epoch: 2039 | Loss: 0.65841, Accuracy: 85.00% | Test loss: 0.66142, Test acc: 85.50%\n",
            "Epoch: 2059 | Loss: 0.65776, Accuracy: 85.00% | Test loss: 0.66086, Test acc: 86.50%\n",
            "Epoch: 2079 | Loss: 0.65709, Accuracy: 85.38% | Test loss: 0.66029, Test acc: 86.50%\n",
            "Epoch: 2099 | Loss: 0.65641, Accuracy: 86.25% | Test loss: 0.65971, Test acc: 87.00%\n",
            "Epoch: 2119 | Loss: 0.65572, Accuracy: 86.38% | Test loss: 0.65912, Test acc: 87.00%\n",
            "Epoch: 2139 | Loss: 0.65501, Accuracy: 86.50% | Test loss: 0.65851, Test acc: 87.00%\n",
            "Epoch: 2159 | Loss: 0.65430, Accuracy: 87.12% | Test loss: 0.65790, Test acc: 87.00%\n",
            "Epoch: 2179 | Loss: 0.65357, Accuracy: 87.50% | Test loss: 0.65728, Test acc: 87.50%\n",
            "Epoch: 2199 | Loss: 0.65284, Accuracy: 87.88% | Test loss: 0.65666, Test acc: 87.50%\n",
            "Epoch: 2219 | Loss: 0.65209, Accuracy: 87.88% | Test loss: 0.65602, Test acc: 88.50%\n",
            "Epoch: 2239 | Loss: 0.65133, Accuracy: 88.12% | Test loss: 0.65538, Test acc: 88.00%\n",
            "Epoch: 2259 | Loss: 0.65056, Accuracy: 88.25% | Test loss: 0.65473, Test acc: 88.00%\n",
            "Epoch: 2279 | Loss: 0.64977, Accuracy: 88.50% | Test loss: 0.65407, Test acc: 88.00%\n",
            "Epoch: 2299 | Loss: 0.64897, Accuracy: 88.88% | Test loss: 0.65340, Test acc: 87.50%\n",
            "Epoch: 2319 | Loss: 0.64816, Accuracy: 89.25% | Test loss: 0.65272, Test acc: 87.50%\n",
            "Epoch: 2339 | Loss: 0.64733, Accuracy: 89.25% | Test loss: 0.65203, Test acc: 88.00%\n",
            "Epoch: 2359 | Loss: 0.64648, Accuracy: 89.62% | Test loss: 0.65132, Test acc: 88.50%\n",
            "Epoch: 2379 | Loss: 0.64562, Accuracy: 89.88% | Test loss: 0.65060, Test acc: 88.50%\n",
            "Epoch: 2399 | Loss: 0.64474, Accuracy: 90.12% | Test loss: 0.64986, Test acc: 89.00%\n",
            "Epoch: 2419 | Loss: 0.64385, Accuracy: 90.25% | Test loss: 0.64910, Test acc: 89.00%\n",
            "Epoch: 2439 | Loss: 0.64294, Accuracy: 90.38% | Test loss: 0.64833, Test acc: 89.50%\n",
            "Epoch: 2459 | Loss: 0.64201, Accuracy: 90.75% | Test loss: 0.64754, Test acc: 89.50%\n",
            "Epoch: 2479 | Loss: 0.64106, Accuracy: 91.00% | Test loss: 0.64673, Test acc: 89.50%\n",
            "Epoch: 2499 | Loss: 0.64008, Accuracy: 91.25% | Test loss: 0.64589, Test acc: 90.00%\n",
            "Epoch: 2519 | Loss: 0.63909, Accuracy: 92.00% | Test loss: 0.64504, Test acc: 90.00%\n",
            "Epoch: 2539 | Loss: 0.63807, Accuracy: 92.38% | Test loss: 0.64415, Test acc: 90.00%\n",
            "Epoch: 2559 | Loss: 0.63704, Accuracy: 92.62% | Test loss: 0.64325, Test acc: 90.00%\n",
            "Epoch: 2579 | Loss: 0.63598, Accuracy: 92.75% | Test loss: 0.64232, Test acc: 90.00%\n",
            "Epoch: 2599 | Loss: 0.63489, Accuracy: 93.12% | Test loss: 0.64137, Test acc: 90.00%\n",
            "Epoch: 2619 | Loss: 0.63379, Accuracy: 93.62% | Test loss: 0.64039, Test acc: 90.50%\n",
            "Epoch: 2639 | Loss: 0.63264, Accuracy: 93.88% | Test loss: 0.63939, Test acc: 91.00%\n",
            "Epoch: 2659 | Loss: 0.63143, Accuracy: 94.38% | Test loss: 0.63834, Test acc: 91.00%\n",
            "Epoch: 2679 | Loss: 0.63020, Accuracy: 94.62% | Test loss: 0.63727, Test acc: 91.50%\n",
            "Epoch: 2699 | Loss: 0.62896, Accuracy: 95.00% | Test loss: 0.63621, Test acc: 91.50%\n",
            "Epoch: 2719 | Loss: 0.62772, Accuracy: 95.12% | Test loss: 0.63515, Test acc: 91.50%\n",
            "Epoch: 2739 | Loss: 0.62649, Accuracy: 95.38% | Test loss: 0.63411, Test acc: 91.50%\n",
            "Epoch: 2759 | Loss: 0.62525, Accuracy: 95.50% | Test loss: 0.63306, Test acc: 91.50%\n",
            "Epoch: 2779 | Loss: 0.62399, Accuracy: 95.62% | Test loss: 0.63200, Test acc: 91.50%\n",
            "Epoch: 2799 | Loss: 0.62272, Accuracy: 95.88% | Test loss: 0.63092, Test acc: 91.50%\n",
            "Epoch: 2819 | Loss: 0.62143, Accuracy: 96.00% | Test loss: 0.62983, Test acc: 91.50%\n",
            "Epoch: 2839 | Loss: 0.62011, Accuracy: 96.12% | Test loss: 0.62871, Test acc: 91.50%\n",
            "Epoch: 2859 | Loss: 0.61877, Accuracy: 96.12% | Test loss: 0.62757, Test acc: 92.00%\n",
            "Epoch: 2879 | Loss: 0.61740, Accuracy: 96.12% | Test loss: 0.62641, Test acc: 92.50%\n",
            "Epoch: 2899 | Loss: 0.61602, Accuracy: 96.12% | Test loss: 0.62523, Test acc: 92.50%\n",
            "Epoch: 2919 | Loss: 0.61460, Accuracy: 96.12% | Test loss: 0.62403, Test acc: 93.00%\n",
            "Epoch: 2939 | Loss: 0.61317, Accuracy: 96.12% | Test loss: 0.62281, Test acc: 93.00%\n",
            "Epoch: 2959 | Loss: 0.61171, Accuracy: 96.25% | Test loss: 0.62157, Test acc: 93.00%\n",
            "Epoch: 2979 | Loss: 0.61022, Accuracy: 96.38% | Test loss: 0.62031, Test acc: 93.00%\n",
            "Epoch: 2999 | Loss: 0.60871, Accuracy: 96.50% | Test loss: 0.61903, Test acc: 93.00%\n"
          ]
        }
      ]
    }
  ],
  "metadata": {
    "colab": {
      "provenance": [],
      "gpuType": "T4"
    },
    "kernelspec": {
      "display_name": "Python 3",
      "name": "python3"
    },
    "language_info": {
      "name": "python"
    }
  },
  "nbformat": 4,
  "nbformat_minor": 0
}